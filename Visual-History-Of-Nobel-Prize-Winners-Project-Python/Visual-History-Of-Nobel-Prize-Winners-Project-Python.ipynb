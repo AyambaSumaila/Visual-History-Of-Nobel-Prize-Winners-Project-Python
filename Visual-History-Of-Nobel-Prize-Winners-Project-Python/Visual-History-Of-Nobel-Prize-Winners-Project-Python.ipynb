{
 "cells": [
  {
   "cell_type": "code",
   "execution_count": null,
   "id": "cf26f3d0",
   "metadata": {},
   "outputs": [],
   "source": []
  },
  {
   "cell_type": "markdown",
   "id": "0b5b9058",
   "metadata": {},
   "source": [
    "# A Visual History of Nobel Prize Winners"
   ]
  },
  {
   "cell_type": "code",
   "execution_count": null,
   "id": "3186e905",
   "metadata": {},
   "outputs": [],
   "source": []
  },
  {
   "cell_type": "markdown",
   "id": "56bf2fa0",
   "metadata": {},
   "source": [
    "#The Nobel Prize is perhaps the world's most well known scientific award. Except for the honor, prestige and substantial prize money the recipient also gets a gold medal showing Alfred Nobel (1833 - 1896) who established the prize. Every year it's given to scientists and scholars in the categories chemistry, literature, physics, physiology or medicine, economics, and peace. \n",
    "\n",
    "<img src=\"https://upload.wikimedia.org/wikipedia/en/e/ed/Nobel_Prize.png\" width=\"290\" title=\"Nobel Prize Medal\" alt=\"Nobel Prize Medal\">\n",
    "\n",
    "The first Nobel Prize was handed out in 1901, and at that time the Prize was very Eurocentric and male-focused, but nowadays it's not biased in any way whatsoever. Surely. Right?\n",
    "\n",
    "Well, we're going to find out! The Nobel Foundation has made a dataset available of all prize winners from the start of the prize, in 1901, to 2016. Let's load it in and take a look."
   ]
  },
  {
   "cell_type": "code",
   "execution_count": null,
   "id": "d5757116",
   "metadata": {},
   "outputs": [],
   "source": []
  },
  {
   "cell_type": "code",
   "execution_count": 3,
   "id": "455fbbca",
   "metadata": {},
   "outputs": [],
   "source": [
    "import pandas as pd\n",
    "#pd.set_option('display.max_colwidth', -1)\n",
    "#pd.set_option('display.max_columns', 100)\n",
    "pd.set_option('display.max_rows', 800)\n",
    "\n",
    "import numpy as np\n",
    "\n",
    "import seaborn as sns\n",
    "\n",
    "import matplotlib.pyplot as plt\n",
    "from matplotlib.ticker import PercentFormatter\n",
    "plt.style.use('ggplot')\n",
    "%matplotlib inline"
   ]
  },
  {
   "cell_type": "markdown",
   "id": "680ee9d5",
   "metadata": {},
   "source": [
    "# Loading the Dataset "
   ]
  },
  {
   "cell_type": "code",
   "execution_count": 10,
   "id": "03c59169",
   "metadata": {},
   "outputs": [],
   "source": [
    "nobel_df=pd.read_csv(\"nobel.csv\")"
   ]
  },
  {
   "cell_type": "code",
   "execution_count": 11,
   "id": "21f3df53",
   "metadata": {},
   "outputs": [
    {
     "name": "stdout",
     "output_type": "stream",
     "text": [
      "++++++++++The dataset has been loaded++++++++++\n"
     ]
    }
   ],
   "source": [
    "print(\"++++++++++The dataset has been loaded++++++++++\")"
   ]
  },
  {
   "cell_type": "code",
   "execution_count": 12,
   "id": "225cef55",
   "metadata": {},
   "outputs": [
    {
     "data": {
      "text/html": [
       "<div>\n",
       "<style scoped>\n",
       "    .dataframe tbody tr th:only-of-type {\n",
       "        vertical-align: middle;\n",
       "    }\n",
       "\n",
       "    .dataframe tbody tr th {\n",
       "        vertical-align: top;\n",
       "    }\n",
       "\n",
       "    .dataframe thead th {\n",
       "        text-align: right;\n",
       "    }\n",
       "</style>\n",
       "<table border=\"1\" class=\"dataframe\">\n",
       "  <thead>\n",
       "    <tr style=\"text-align: right;\">\n",
       "      <th></th>\n",
       "      <th>year</th>\n",
       "      <th>category</th>\n",
       "      <th>prize</th>\n",
       "      <th>motivation</th>\n",
       "      <th>prize_share</th>\n",
       "      <th>laureate_id</th>\n",
       "      <th>laureate_type</th>\n",
       "      <th>full_name</th>\n",
       "      <th>birth_date</th>\n",
       "      <th>birth_city</th>\n",
       "      <th>birth_country</th>\n",
       "      <th>sex</th>\n",
       "      <th>organization_name</th>\n",
       "      <th>organization_city</th>\n",
       "      <th>organization_country</th>\n",
       "      <th>death_date</th>\n",
       "      <th>death_city</th>\n",
       "      <th>death_country</th>\n",
       "    </tr>\n",
       "  </thead>\n",
       "  <tbody>\n",
       "    <tr>\n",
       "      <th>0</th>\n",
       "      <td>1901</td>\n",
       "      <td>Chemistry</td>\n",
       "      <td>The Nobel Prize in Chemistry 1901</td>\n",
       "      <td>\"in recognition of the extraordinary services ...</td>\n",
       "      <td>1/1</td>\n",
       "      <td>160</td>\n",
       "      <td>Individual</td>\n",
       "      <td>Jacobus Henricus van 't Hoff</td>\n",
       "      <td>1852-08-30</td>\n",
       "      <td>Rotterdam</td>\n",
       "      <td>Netherlands</td>\n",
       "      <td>Male</td>\n",
       "      <td>Berlin University</td>\n",
       "      <td>Berlin</td>\n",
       "      <td>Germany</td>\n",
       "      <td>1911-03-01</td>\n",
       "      <td>Berlin</td>\n",
       "      <td>Germany</td>\n",
       "    </tr>\n",
       "    <tr>\n",
       "      <th>1</th>\n",
       "      <td>1901</td>\n",
       "      <td>Literature</td>\n",
       "      <td>The Nobel Prize in Literature 1901</td>\n",
       "      <td>\"in special recognition of his poetic composit...</td>\n",
       "      <td>1/1</td>\n",
       "      <td>569</td>\n",
       "      <td>Individual</td>\n",
       "      <td>Sully Prudhomme</td>\n",
       "      <td>1839-03-16</td>\n",
       "      <td>Paris</td>\n",
       "      <td>France</td>\n",
       "      <td>Male</td>\n",
       "      <td>NaN</td>\n",
       "      <td>NaN</td>\n",
       "      <td>NaN</td>\n",
       "      <td>1907-09-07</td>\n",
       "      <td>Châtenay</td>\n",
       "      <td>France</td>\n",
       "    </tr>\n",
       "    <tr>\n",
       "      <th>2</th>\n",
       "      <td>1901</td>\n",
       "      <td>Medicine</td>\n",
       "      <td>The Nobel Prize in Physiology or Medicine 1901</td>\n",
       "      <td>\"for his work on serum therapy, especially its...</td>\n",
       "      <td>1/1</td>\n",
       "      <td>293</td>\n",
       "      <td>Individual</td>\n",
       "      <td>Emil Adolf von Behring</td>\n",
       "      <td>1854-03-15</td>\n",
       "      <td>Hansdorf (Lawice)</td>\n",
       "      <td>Prussia (Poland)</td>\n",
       "      <td>Male</td>\n",
       "      <td>Marburg University</td>\n",
       "      <td>Marburg</td>\n",
       "      <td>Germany</td>\n",
       "      <td>1917-03-31</td>\n",
       "      <td>Marburg</td>\n",
       "      <td>Germany</td>\n",
       "    </tr>\n",
       "    <tr>\n",
       "      <th>3</th>\n",
       "      <td>1901</td>\n",
       "      <td>Peace</td>\n",
       "      <td>The Nobel Peace Prize 1901</td>\n",
       "      <td>NaN</td>\n",
       "      <td>1/2</td>\n",
       "      <td>462</td>\n",
       "      <td>Individual</td>\n",
       "      <td>Jean Henry Dunant</td>\n",
       "      <td>1828-05-08</td>\n",
       "      <td>Geneva</td>\n",
       "      <td>Switzerland</td>\n",
       "      <td>Male</td>\n",
       "      <td>NaN</td>\n",
       "      <td>NaN</td>\n",
       "      <td>NaN</td>\n",
       "      <td>1910-10-30</td>\n",
       "      <td>Heiden</td>\n",
       "      <td>Switzerland</td>\n",
       "    </tr>\n",
       "    <tr>\n",
       "      <th>4</th>\n",
       "      <td>1901</td>\n",
       "      <td>Peace</td>\n",
       "      <td>The Nobel Peace Prize 1901</td>\n",
       "      <td>NaN</td>\n",
       "      <td>1/2</td>\n",
       "      <td>463</td>\n",
       "      <td>Individual</td>\n",
       "      <td>Frédéric Passy</td>\n",
       "      <td>1822-05-20</td>\n",
       "      <td>Paris</td>\n",
       "      <td>France</td>\n",
       "      <td>Male</td>\n",
       "      <td>NaN</td>\n",
       "      <td>NaN</td>\n",
       "      <td>NaN</td>\n",
       "      <td>1912-06-12</td>\n",
       "      <td>Paris</td>\n",
       "      <td>France</td>\n",
       "    </tr>\n",
       "  </tbody>\n",
       "</table>\n",
       "</div>"
      ],
      "text/plain": [
       "   year    category                                           prize  \\\n",
       "0  1901   Chemistry               The Nobel Prize in Chemistry 1901   \n",
       "1  1901  Literature              The Nobel Prize in Literature 1901   \n",
       "2  1901    Medicine  The Nobel Prize in Physiology or Medicine 1901   \n",
       "3  1901       Peace                      The Nobel Peace Prize 1901   \n",
       "4  1901       Peace                      The Nobel Peace Prize 1901   \n",
       "\n",
       "                                          motivation prize_share  laureate_id  \\\n",
       "0  \"in recognition of the extraordinary services ...         1/1          160   \n",
       "1  \"in special recognition of his poetic composit...         1/1          569   \n",
       "2  \"for his work on serum therapy, especially its...         1/1          293   \n",
       "3                                                NaN         1/2          462   \n",
       "4                                                NaN         1/2          463   \n",
       "\n",
       "  laureate_type                     full_name  birth_date         birth_city  \\\n",
       "0    Individual  Jacobus Henricus van 't Hoff  1852-08-30          Rotterdam   \n",
       "1    Individual               Sully Prudhomme  1839-03-16              Paris   \n",
       "2    Individual        Emil Adolf von Behring  1854-03-15  Hansdorf (Lawice)   \n",
       "3    Individual             Jean Henry Dunant  1828-05-08             Geneva   \n",
       "4    Individual                Frédéric Passy  1822-05-20              Paris   \n",
       "\n",
       "      birth_country   sex   organization_name organization_city  \\\n",
       "0       Netherlands  Male   Berlin University            Berlin   \n",
       "1            France  Male                 NaN               NaN   \n",
       "2  Prussia (Poland)  Male  Marburg University           Marburg   \n",
       "3       Switzerland  Male                 NaN               NaN   \n",
       "4            France  Male                 NaN               NaN   \n",
       "\n",
       "  organization_country  death_date death_city death_country  \n",
       "0              Germany  1911-03-01     Berlin       Germany  \n",
       "1                  NaN  1907-09-07   Châtenay        France  \n",
       "2              Germany  1917-03-31    Marburg       Germany  \n",
       "3                  NaN  1910-10-30     Heiden   Switzerland  \n",
       "4                  NaN  1912-06-12      Paris        France  "
      ]
     },
     "execution_count": 12,
     "metadata": {},
     "output_type": "execute_result"
    }
   ],
   "source": [
    "nobel_df.head()"
   ]
  },
  {
   "cell_type": "code",
   "execution_count": null,
   "id": "b34169ac",
   "metadata": {},
   "outputs": [],
   "source": []
  },
  {
   "cell_type": "code",
   "execution_count": 13,
   "id": "528462d3",
   "metadata": {},
   "outputs": [
    {
     "name": "stdout",
     "output_type": "stream",
     "text": [
      "<class 'pandas.core.frame.DataFrame'>\n",
      "RangeIndex: 911 entries, 0 to 910\n",
      "Data columns (total 18 columns):\n",
      " #   Column                Non-Null Count  Dtype \n",
      "---  ------                --------------  ----- \n",
      " 0   year                  911 non-null    int64 \n",
      " 1   category              911 non-null    object\n",
      " 2   prize                 911 non-null    object\n",
      " 3   motivation            823 non-null    object\n",
      " 4   prize_share           911 non-null    object\n",
      " 5   laureate_id           911 non-null    int64 \n",
      " 6   laureate_type         911 non-null    object\n",
      " 7   full_name             911 non-null    object\n",
      " 8   birth_date            883 non-null    object\n",
      " 9   birth_city            883 non-null    object\n",
      " 10  birth_country         885 non-null    object\n",
      " 11  sex                   885 non-null    object\n",
      " 12  organization_name     665 non-null    object\n",
      " 13  organization_city     667 non-null    object\n",
      " 14  organization_country  667 non-null    object\n",
      " 15  death_date            593 non-null    object\n",
      " 16  death_city            576 non-null    object\n",
      " 17  death_country         582 non-null    object\n",
      "dtypes: int64(2), object(16)\n",
      "memory usage: 128.2+ KB\n"
     ]
    }
   ],
   "source": [
    "nobel_df.info()"
   ]
  },
  {
   "cell_type": "code",
   "execution_count": null,
   "id": "52faad15",
   "metadata": {},
   "outputs": [],
   "source": []
  },
  {
   "cell_type": "code",
   "execution_count": 14,
   "id": "fc180a18",
   "metadata": {},
   "outputs": [
    {
     "data": {
      "text/plain": [
       "Index(['year', 'category', 'prize', 'motivation', 'prize_share', 'laureate_id',\n",
       "       'laureate_type', 'full_name', 'birth_date', 'birth_city',\n",
       "       'birth_country', 'sex', 'organization_name', 'organization_city',\n",
       "       'organization_country', 'death_date', 'death_city', 'death_country'],\n",
       "      dtype='object')"
      ]
     },
     "execution_count": 14,
     "metadata": {},
     "output_type": "execute_result"
    }
   ],
   "source": [
    "nobel_df.columns"
   ]
  },
  {
   "cell_type": "code",
   "execution_count": 15,
   "id": "4719631d",
   "metadata": {},
   "outputs": [
    {
     "data": {
      "text/plain": [
       "year                    False\n",
       "category                False\n",
       "prize                   False\n",
       "motivation               True\n",
       "prize_share             False\n",
       "laureate_id             False\n",
       "laureate_type           False\n",
       "full_name               False\n",
       "birth_date               True\n",
       "birth_city               True\n",
       "birth_country            True\n",
       "sex                      True\n",
       "organization_name        True\n",
       "organization_city        True\n",
       "organization_country     True\n",
       "death_date               True\n",
       "death_city               True\n",
       "death_country            True\n",
       "dtype: bool"
      ]
     },
     "execution_count": 15,
     "metadata": {},
     "output_type": "execute_result"
    }
   ],
   "source": [
    "#Checking to see if there are nulls in the dataset\n",
    "nobel_df.isnull().any()"
   ]
  },
  {
   "cell_type": "code",
   "execution_count": 18,
   "id": "e079dd62",
   "metadata": {},
   "outputs": [
    {
     "data": {
      "text/plain": [
       "birth_date\n",
       "1843-05-21    2\n",
       "1918-06-18    2\n",
       "1867-11-07    2\n",
       "1940-01-04    2\n",
       "1930-10-10    2\n",
       "             ..\n",
       "1925-05-23    1\n",
       "1910-02-10    1\n",
       "1904-07-28    1\n",
       "1895-07-08    1\n",
       "1943-06-22    1\n",
       "Name: count, Length: 868, dtype: int64"
      ]
     },
     "execution_count": 18,
     "metadata": {},
     "output_type": "execute_result"
    }
   ],
   "source": [
    "nobel_df['birth_date'].value_counts()"
   ]
  },
  {
   "cell_type": "code",
   "execution_count": 20,
   "id": "6a6fbf73",
   "metadata": {},
   "outputs": [
    {
     "data": {
      "text/plain": [
       "birth_city\n",
       "New York, NY                        45\n",
       "Paris                               25\n",
       "London                              19\n",
       "Vienna                              14\n",
       "Chicago, IL                         12\n",
       "Berlin                              10\n",
       "Budapest                             8\n",
       "Brooklyn, NY                         8\n",
       "Boston, MA                           8\n",
       "Washington, DC                       7\n",
       "Munich                               7\n",
       "Moscow                               7\n",
       "Stockholm                            6\n",
       "Hamburg                              6\n",
       "Prague                               5\n",
       "Frankfurt-on-the-Main                5\n",
       "Montreal                             4\n",
       "Cairo                                4\n",
       "Amsterdam                            3\n",
       "Osaka                                3\n",
       "Halifax                              3\n",
       "the Hague                            3\n",
       "Uppsala                              3\n",
       "Kristiania (Oslo)                    3\n",
       "Buenos Aires                         3\n",
       "Adelaide                             3\n",
       "Ann Arbor, MI                        3\n",
       "San Francisco, CA                    3\n",
       "Los Angeles, CA                      3\n",
       "Copenhagen                           3\n",
       "Dublin                               3\n",
       "Heidelberg                           3\n",
       "Nagoya                               3\n",
       "Shanghai                             3\n",
       "Breslau (Wroclaw)                    3\n",
       "Cambridge                            3\n",
       "Cambridge, MA                        3\n",
       "Belfast                              3\n",
       "New Haven, CT                        3\n",
       "Glasgow                              3\n",
       "Warsaw                               3\n",
       "Milwaukee, WI                        3\n",
       "St. Louis, MO                        3\n",
       "Philadelphia, PA                     3\n",
       "Helsinki                             3\n",
       "Pittsburgh, PA                       3\n",
       "Tokyo                                3\n",
       "Cleveland, OH                        2\n",
       "Eastbourne                           2\n",
       "Jerusalem                            2\n",
       "Kyoto                                2\n",
       "Madrid                               2\n",
       "Stuttgart                            2\n",
       "Lübeck                               2\n",
       "Leningrad (Saint Petersburg)         2\n",
       "Montclair, NJ                        2\n",
       "Rendcombe                            2\n",
       "Edinburgh                            2\n",
       "Sydney                               2\n",
       "Geneva                               2\n",
       "Bristol                              2\n",
       "Mexico City                          2\n",
       "Wilkes-Barre, PA                     2\n",
       "Genoa                                2\n",
       "Detroit, MI                          2\n",
       "Basel                                2\n",
       "Cologne                              2\n",
       "Lund                                 2\n",
       "St. Paul, MN                         2\n",
       "Madison, WI                          2\n",
       "Todmorden                            2\n",
       "Baltimore, MD                        2\n",
       "Urbana, IL                           2\n",
       "St. Petersburg                       2\n",
       "Monrovia                             2\n",
       "Gary, IN                             2\n",
       "Koenigsberg (Kaliningrad)            2\n",
       "Hartford, CT                         2\n",
       "Pretoria                             2\n",
       "Ghent                                2\n",
       "Johannesburg                         2\n",
       "Castries                             2\n",
       "Carcassonne                          2\n",
       "Manchester                           2\n",
       "Rome                                 2\n",
       "Portland, OR                         2\n",
       "Yonkers, NY                          2\n",
       "Oak Park, IL                         2\n",
       "Tel Aviv                             2\n",
       "Pottsville, PA                       1\n",
       "Lethbridge, Alberta                  1\n",
       "Iria Flavia                          1\n",
       "Landsberg                            1\n",
       "Falmouth, KY                         1\n",
       "Derby                                1\n",
       "York, PA                             1\n",
       "Oceanside, NY                        1\n",
       "Lorain, OH                           1\n",
       "Blackpool                            1\n",
       "Lenoir, NC                           1\n",
       "Taktser                              1\n",
       "Dabrovica                            1\n",
       "Aldea Chimel                         1\n",
       "Mart, TX                             1\n",
       "Winterthur                           1\n",
       "Yakima, WA                           1\n",
       "Lansing, IA                          1\n",
       "Privolnoye                           1\n",
       "Görlitz                              1\n",
       "Lorenzkirch                          1\n",
       "Springs                              1\n",
       "Methuen, MA                          1\n",
       "Qunu                                 1\n",
       "Rangoon (Yangon)                     1\n",
       "Vishneva                             1\n",
       "Willesden                            1\n",
       "Bluefield, WV                        1\n",
       "Uchiko                               1\n",
       "Delaware, OH                         1\n",
       "Milford, MA                          1\n",
       "Medicine Hat, Alberta                1\n",
       "Rotterdam                            1\n",
       "Skedsmo                              1\n",
       "Nara                                 1\n",
       "Omaha, NE                            1\n",
       "&#346;eteniai                        1\n",
       "Caracas                              1\n",
       "Toulouse                             1\n",
       "Bradford, MA                         1\n",
       "Merriman, NE                         1\n",
       "Zloczov                              1\n",
       "Bad Kissingen                        1\n",
       "Champaign, IL                        1\n",
       "Ruse                                 1\n",
       "Windsor, ON                          1\n",
       "Dordrecht                            1\n",
       "Mount Verno, NY                      1\n",
       "Zelvas                               1\n",
       "Jhang Maghi&#257;na                  1\n",
       "Uskup (Skopje)                       1\n",
       "Newark                               1\n",
       "Iráklion                             1\n",
       "Arlington, SD                        1\n",
       "Houston, TX                          1\n",
       "Kronshtadt                           1\n",
       "Brest Litovsk                        1\n",
       "Mit Abu al-Kawm                      1\n",
       "Wilmington, DE                       1\n",
       "Gränichen                            1\n",
       "Leoncin                              1\n",
       "Mitcham                              1\n",
       "Middletown, CT                       1\n",
       "Leeds                                1\n",
       "Indianapolis, IN                     1\n",
       "Wilno (Vilnius)                      1\n",
       "Renton, WA                           1\n",
       "Aracataca                            1\n",
       "Halmstad                             1\n",
       "Hsinchu                              1\n",
       "Hoquiam, WA                          1\n",
       "Uddingston                           1\n",
       "Ludwigsburg                          1\n",
       "Zusamaltheim                         1\n",
       "Neuenkirchen                         1\n",
       "Heredia                              1\n",
       "Pusan                                1\n",
       "Rosheim                              1\n",
       "Chester, VT                          1\n",
       "Buchs                                1\n",
       "Sighet                               1\n",
       "Turin                                1\n",
       "Abeokuta                             1\n",
       "Murfreesboro, TN                     1\n",
       "San José, CA                         1\n",
       "Tardebigg                            1\n",
       "Schroda                              1\n",
       "Sumter, SC                           1\n",
       "Tananarive (Antananarivo)            1\n",
       "Gorizia                              1\n",
       "Klerksdorp                           1\n",
       "Bahia Blanca                         1\n",
       "Fort Worth, TX                       1\n",
       "Lahore                               1\n",
       "Popowo                               1\n",
       "St. Columb Minor                     1\n",
       "Calais                               1\n",
       "Neudorf                              1\n",
       "Waltham, MA                          1\n",
       "Zamora                               1\n",
       "Casteldàwson                         1\n",
       "Leggiuno-Sangiano                    1\n",
       "Magdeburg                            1\n",
       "Echternach                           1\n",
       "Nitzkydorf, Banat                    1\n",
       "Hobart, Tasmania                     1\n",
       "San Diego, CA                        1\n",
       "Honolulu, HI                         1\n",
       "Amherst, NS                          1\n",
       "White Plains, NY                     1\n",
       "Springfield, MA                      1\n",
       "Changchun                            1\n",
       "Mukawa                               1\n",
       "Enterprise, OR                       1\n",
       "Nicosia                              1\n",
       "Arequipa                             1\n",
       "Batley                               1\n",
       "Sochi                                1\n",
       "Nizhny Tagil                         1\n",
       "Superior, WI                         1\n",
       "Chidambaram, Tamil Nadu              1\n",
       "Viipuri (Vyborg)                     1\n",
       "Yukon, FL                            1\n",
       "Denver, CO                           1\n",
       "Evanston, IL                         1\n",
       "Istanbul                             1\n",
       "Stanford, CA                         1\n",
       "Chittagong                           1\n",
       "Roanoke, VA                          1\n",
       "Bad Cannstatt                        1\n",
       "Chabris                              1\n",
       "Kermanshah                           1\n",
       "Verona                               1\n",
       "Stroud                               1\n",
       "Plzen                                1\n",
       "Nice                                 1\n",
       "Gelsenkirchen                        1\n",
       "Pasadena, CA                         1\n",
       "Ta'izz                               1\n",
       "South Bend, IN                       1\n",
       "Champaign-Urbana, IL                 1\n",
       "Chiran                               1\n",
       "Hamamatsu                            1\n",
       "Ikata                                1\n",
       "Raton, NM                            1\n",
       "Savur                                1\n",
       "Ivano-Frankivsk                      1\n",
       "Ramelton                             1\n",
       "Yamanashi Prefecture                 1\n",
       "Zhejiang Ningbo                      1\n",
       "Higashimatsuyama                     1\n",
       "Barger-Compascuum                    1\n",
       "Duluth, MN                           1\n",
       "Fukuoka                              1\n",
       "Bogotá                               1\n",
       "Bearsden                             1\n",
       "Mingora                              1\n",
       "Vidisha                              1\n",
       "Ålesund                              1\n",
       "Wingham                              1\n",
       "Missoula, MT                         1\n",
       "Little Falls, MN                     1\n",
       "Gaomi                                1\n",
       "Dippenhall                           1\n",
       "Casablanca                           1\n",
       "Kibbutz Sde-Nahum                    1\n",
       "Haverhill, MA                        1\n",
       "Fosnavåg                             1\n",
       "Göttingen                            1\n",
       "Etterbeek                            1\n",
       "Newcastle upon Tyne                  1\n",
       "Arad                                 1\n",
       "Pleasanton, CA                       1\n",
       "Troyes                               1\n",
       "Kalgoorlie                           1\n",
       "Oakland, CA                          1\n",
       "Berne, IN                            1\n",
       "Possum Trot, KY                      1\n",
       "Constantine                          1\n",
       "Burnham-on-Sea                       1\n",
       "Santiniketan                         1\n",
       "Azinhaga                             1\n",
       "Charleston, SC                       1\n",
       "Whiting, IN                          1\n",
       "Londonderry                          1\n",
       "Visalia, CA                          1\n",
       "Henan                                1\n",
       "Damanhur                             1\n",
       "Kingston, ON                         1\n",
       "Danzig (Gdansk)                      1\n",
       "Waltersdorf (Niegoslawice)           1\n",
       "Den Helder                           1\n",
       "Waalwijk                             1\n",
       "Putney, VT                           1\n",
       "Des Moines, IA                       1\n",
       "Sevilla                              1\n",
       "Bnin (Kórnik)                        1\n",
       "Paterson, NJ                         1\n",
       "Alice, TX                            1\n",
       "Wisbech                              1\n",
       "Akron, OH                            1\n",
       "Minnigaff                            1\n",
       "Victoria, BC                         1\n",
       "Brisbane                             1\n",
       "Timmins, ON                          1\n",
       "Wailacama                            1\n",
       "Dili                                 1\n",
       "Rye, NY                              1\n",
       "Aberdeen, WA                         1\n",
       "Provo, UT                            1\n",
       "Lemvig                               1\n",
       "Sioux City, IA                       1\n",
       "Masterton                            1\n",
       "Raleigh, NC                          1\n",
       "Haifa                                1\n",
       "Burlington, MA                       1\n",
       "Syracuse, NY                         1\n",
       "Swansea                              1\n",
       "Cape Town                            1\n",
       "Sidney, OH                           1\n",
       "Hamadan                              1\n",
       "Karcag                               1\n",
       "Toyohashi                            1\n",
       "Gjesdal                              1\n",
       "Glens Falls, NY                      1\n",
       "Mürzzuschlag                         1\n",
       "Seattle, WA                          1\n",
       "Nyeri                                1\n",
       "Menin                                1\n",
       "Northfield, MN                       1\n",
       "Plains, GA                           1\n",
       "Ganzhou                              1\n",
       "Neston                               1\n",
       "Mokpo                                1\n",
       "Vitebsk, Belorussia                  1\n",
       "Weimar                               1\n",
       "Jefferson City, MO                   1\n",
       "Taunton, MA                          1\n",
       "Kobe                                 1\n",
       "Norwich                              1\n",
       "Germiston                            1\n",
       "Kumasi                               1\n",
       "Palo Alto, CA                        1\n",
       "Corvallis, OR                        1\n",
       "Toyama City                          1\n",
       "Aarberg                              1\n",
       "Wichita, KS                          1\n",
       "Dijon                                1\n",
       "Kislovodsk                           1\n",
       "Swanage                              1\n",
       "Augsburg                             1\n",
       "Rouen                                1\n",
       "Kalundborg                           1\n",
       "Glencorse                            1\n",
       "Wooster, OH                          1\n",
       "Bremen                               1\n",
       "Wels                                 1\n",
       "Pforzheim                            1\n",
       "Lille                                1\n",
       "Nantes                               1\n",
       "Silkeborg                            1\n",
       "Nuoro, Sardinia                      1\n",
       "Fleräng                              1\n",
       "Marietta, OH                         1\n",
       "Birmingham                           1\n",
       "Semarang                             1\n",
       "Kobiele Wielkie                      1\n",
       "Morrison, IL                         1\n",
       "Cluny                                1\n",
       "Alliston                             1\n",
       "Laibach (Ljubljana)                  1\n",
       "Hanover                              1\n",
       "Harborne                             1\n",
       "Ulm                                  1\n",
       "Stavanger                            1\n",
       "Fleurier                             1\n",
       "Grenå                                1\n",
       "Lom                                  1\n",
       "Briesen                              1\n",
       "Schickenhof                          1\n",
       "Dewsbury                             1\n",
       "Nijkerk                              1\n",
       "Soignies                             1\n",
       "Potsdam, NY                          1\n",
       "Lagow                                1\n",
       "Hämeenkyrö                           1\n",
       "Vukovar                              1\n",
       "Bremerhaven-Lehe                     1\n",
       "Hillsboro, WV                        1\n",
       "Bloomington, IL                      1\n",
       "Neuilly-sur-Seine                    1\n",
       "Chorley                              1\n",
       "Peggau                               1\n",
       "Maastricht                           1\n",
       "Stoughton, WI                        1\n",
       "Ashland, NH                          1\n",
       "Agrigento, Sicily                    1\n",
       "Walkerton, IN                        1\n",
       "Holbeach                             1\n",
       "Lexington, KY                        1\n",
       "Voronezh                             1\n",
       "Würzburg                             1\n",
       "Kingston Hill                        1\n",
       "Elizabeth, NJ                        1\n",
       "Cedarville, IL                       1\n",
       "Freiburg im Breisgau                 1\n",
       "Karlbo                               1\n",
       "Goldschmieden, near Breslau          1\n",
       "Tiruchirappalli                      1\n",
       "Trönö                                1\n",
       "Sauk Centre, MN                      1\n",
       "Hoechst                              1\n",
       "Dieppe                               1\n",
       "Staunton, VA                         1\n",
       "Liestal                              1\n",
       "Hume, IL                             1\n",
       "Gothenburg                           1\n",
       "Kharkov (Kharkiv)                    1\n",
       "Aurich                               1\n",
       "Nelson                               1\n",
       "Strelno (Strzelno)                   1\n",
       "Autun                                1\n",
       "Milan                                1\n",
       "Bombay                               1\n",
       "Cheetham Hill, near Manchester       1\n",
       "Petilla de Aragó                     1\n",
       "Corteno                              1\n",
       "Val di Castello                      1\n",
       "Pressburg (Bratislava)               1\n",
       "Clausthal (Clausthal-Zellerfeld)     1\n",
       "Wola Okrzejska                       1\n",
       "Langford Grove, Maldon, Essex        1\n",
       "Ryazan                               1\n",
       "Maillane                             1\n",
       "Fareham                              1\n",
       "Thorshavn                            1\n",
       "Kvikne                               1\n",
       "Vik                                  1\n",
       "Zonnemaire                           1\n",
       "Arnhem                               1\n",
       "Tramelan                             1\n",
       "Almora                               1\n",
       "Garding                              1\n",
       "Euskirchen                           1\n",
       "Lennep (Remscheid)                   1\n",
       "Hansdorf (Lawice)                    1\n",
       "Strehlen (Strzelin)                  1\n",
       "Næstved                              1\n",
       "Kiel                                 1\n",
       "Hollerich                            1\n",
       "Widnes                               1\n",
       "Fredericia                           1\n",
       "Roholte                              1\n",
       "Olshammar                            1\n",
       "Wigton                               1\n",
       "Clamecy                              1\n",
       "Karlsruhe                            1\n",
       "Pfaffendorf                          1\n",
       "Germantown, PA                       1\n",
       "Groningen                            1\n",
       "Brussels                             1\n",
       "Calcutta                             1\n",
       "Mulhouse                             1\n",
       "Stenstorp                            1\n",
       "Clinton, NY                          1\n",
       "Sainte-Foy-lès-Lyon                  1\n",
       "Bad Salzbrunn                        1\n",
       "Cherbourg                            1\n",
       "Gaffken (Parusnoye)                  1\n",
       "Landskrona                           1\n",
       "Leiden                               1\n",
       "Rostock                              1\n",
       "Fulda                                1\n",
       "Bologna                              1\n",
       "La Flèche                            1\n",
       "Ostend                               1\n",
       "Berne                                1\n",
       "Mårbacka                             1\n",
       "Riga                                 1\n",
       "Canton, SD                           1\n",
       "Sorau (Zory)                         1\n",
       "Klippan                              1\n",
       "Gravesend                            1\n",
       "Raipur                               1\n",
       "Strassburg (Strasbourg)              1\n",
       "Bloomsburg, PA                       1\n",
       "Guatemala City                       1\n",
       "Stainforth                           1\n",
       "Bochum                               1\n",
       "Guebwiller                           1\n",
       "Buczacz (Buchach)                    1\n",
       "Newburyport, MA                      1\n",
       "Ainay-le-Château                     1\n",
       "Nancy                                1\n",
       "Veshenskaya                          1\n",
       "Atherton                             1\n",
       "Usman                                1\n",
       "Greenville, SC                       1\n",
       "Atlanta, GA                          1\n",
       "Neisse (Nysa)                        1\n",
       "Kattowitz (Katowice)                 1\n",
       "Hampstead                            1\n",
       "Banbury                              1\n",
       "Melbourne                            1\n",
       "Smyrna (Izmir)                       1\n",
       "Imperia                              1\n",
       "Helsa                                1\n",
       "Baku                                 1\n",
       "Pongaroa                             1\n",
       "Northampton                          1\n",
       "Salinas, CA                          1\n",
       "Oxford                               1\n",
       "Bayonne                              1\n",
       "Oslo                                 1\n",
       "Dolac                                1\n",
       "Owosso, MI                           1\n",
       "Council, ID                          1\n",
       "Catanzaro                            1\n",
       "'s Graveland                         1\n",
       "Sarajevo                             1\n",
       "Fowey                                1\n",
       "Brighton                             1\n",
       "Tabuse                               1\n",
       "Iasi                                 1\n",
       "Thames Ditton                        1\n",
       "Longlier                             1\n",
       "Jämshög                              1\n",
       "Svartbjörnsbyn                       1\n",
       "Skattungbyn                          1\n",
       "Sterling, IL                         1\n",
       "Cardiff                              1\n",
       "Bergen                               1\n",
       "Nam Ha province                      1\n",
       "Fürth                                1\n",
       "Newton-le-Willows                    1\n",
       "Warwick                              1\n",
       "Monessen, PA                         1\n",
       "Burlingame, KS                       1\n",
       "Parral                               1\n",
       "Pinsk                                1\n",
       "Lyon                                 1\n",
       "Norrköping                           1\n",
       "Cresco, IA                           1\n",
       "Leipzig                              1\n",
       "Torino                               1\n",
       "Jönköping                            1\n",
       "Bulawayo                             1\n",
       "Farsø                                1\n",
       "Kaysersberg                          1\n",
       "Bordeaux                             1\n",
       "Liverpool                            1\n",
       "Dungarvan                            1\n",
       "Växjö                                1\n",
       "Ishpeming, MI                        1\n",
       "Redondo Beach, CA                    1\n",
       "Tonbridge                            1\n",
       "Wloclawek                            1\n",
       "South Norwalk, CT                    1\n",
       "Trelleck                             1\n",
       "Königshütte (Chorzów)                1\n",
       "Kilmaurs                             1\n",
       "Avanca                               1\n",
       "Frauenfeld                           1\n",
       "New Albany, MS                       1\n",
       "Niagara Falls                        1\n",
       "Olten                                1\n",
       "Bradford                             1\n",
       "Rufford, near Chesterfield           1\n",
       "Livingston Manor, NY                 1\n",
       "Jamaica Plain, MA (Boston)           1\n",
       "Calw                                 1\n",
       "Ridgeville, IN                       1\n",
       "Canton, MA                           1\n",
       "Olympus, TN                          1\n",
       "Lochfield                            1\n",
       "Vicuña                               1\n",
       "Rymanow                              1\n",
       "Platteville, WI                      1\n",
       "Priluka (Nova Pryluka)               1\n",
       "Zurich                               1\n",
       "Rio de Janeiro                       1\n",
       "Taylorville, IL                      1\n",
       "Traralgon                            1\n",
       "Pointe-à-Pitre                       1\n",
       "Grand Valley, CO                     1\n",
       "Tivoli                               1\n",
       "Luarca                               1\n",
       "Modica                               1\n",
       "Vladivostok                          1\n",
       "Novaya Chigla                        1\n",
       "Dinant                               1\n",
       "Boulder, CO                          1\n",
       "Wahoo, NE                            1\n",
       "Hofei, Anhwei                        1\n",
       "Toronto                              1\n",
       "Neuchâtel                            1\n",
       "Mondovi                              1\n",
       "Amoy                                 1\n",
       "Orange, NJ                           1\n",
       "Moguer                               1\n",
       "Saratov                              1\n",
       "Blankenburg                          1\n",
       "Linköping                            1\n",
       "Reykjavik                            1\n",
       "Oranienburg                          1\n",
       "Auburn, AL                           1\n",
       "West Hartford, CT                    1\n",
       "Uniontown, PA                        1\n",
       "Hildesheim                           1\n",
       "Woodstock                            1\n",
       "Worms                                1\n",
       "Aberdeen                             1\n",
       "Name: count, dtype: int64"
      ]
     },
     "execution_count": 20,
     "metadata": {},
     "output_type": "execute_result"
    }
   ],
   "source": [
    "nobel_df['birth_city'].value_counts()"
   ]
  },
  {
   "cell_type": "code",
   "execution_count": 21,
   "id": "035fb957",
   "metadata": {},
   "outputs": [
    {
     "data": {
      "text/plain": [
       "death_country\n",
       "United States of America                        203\n",
       "United Kingdom                                   73\n",
       "France                                           51\n",
       "Germany                                          32\n",
       "Sweden                                           28\n",
       "Switzerland                                      26\n",
       "West Germany (Germany)                           23\n",
       "Italy                                            14\n",
       "Spain                                            10\n",
       "Netherlands                                       9\n",
       "Denmark                                           9\n",
       "Norway                                            8\n",
       "Belgium                                           7\n",
       "Union of Soviet Socialist Republics (Russia)      6\n",
       "Canada                                            6\n",
       "Japan                                             6\n",
       "Austria                                           6\n",
       "Scotland                                          5\n",
       "Russia                                            5\n",
       "Israel                                            4\n",
       "Poland                                            4\n",
       "Argentina                                         4\n",
       "South Africa                                      3\n",
       "Union of Soviet Socialist Republics               3\n",
       "Mexico                                            3\n",
       "Ireland                                           3\n",
       "India                                             3\n",
       "Greece                                            2\n",
       "Egypt                                             2\n",
       "Czechoslovakia                                    2\n",
       "Australia                                         2\n",
       "Finland                                           2\n",
       "Portugal                                          1\n",
       "Kenya                                             1\n",
       "Hungary                                           1\n",
       "Romania                                           1\n",
       "Barbados                                          1\n",
       "Vietnam                                           1\n",
       "Chile                                             1\n",
       "Germany (Poland)                                  1\n",
       "Yugoslavia (Serbia)                               1\n",
       "Northern Rhodesia (Zambia)                        1\n",
       "East Germany                                      1\n",
       "Puerto Rico                                       1\n",
       "Tunisia                                           1\n",
       "Iceland                                           1\n",
       "Gabon                                             1\n",
       "Northern Ireland                                  1\n",
       "Jamaica                                           1\n",
       "Philippines                                       1\n",
       "Name: count, dtype: int64"
      ]
     },
     "execution_count": 21,
     "metadata": {},
     "output_type": "execute_result"
    }
   ],
   "source": [
    "nobel_df['death_country'].value_counts()"
   ]
  },
  {
   "cell_type": "code",
   "execution_count": null,
   "id": "1708dc61",
   "metadata": {},
   "outputs": [],
   "source": []
  },
  {
   "cell_type": "markdown",
   "id": "c2332cd0",
   "metadata": {},
   "source": [
    "# Data Exploration"
   ]
  },
  {
   "cell_type": "markdown",
   "id": "f50b1af1",
   "metadata": {},
   "source": [
    "# What  are the Unique Prize Categories"
   ]
  },
  {
   "cell_type": "code",
   "execution_count": 22,
   "id": "f4b4c5f4",
   "metadata": {},
   "outputs": [],
   "source": [
    "my_unique=pd.Series(data=nobel_df['category'].unique())"
   ]
  },
  {
   "cell_type": "code",
   "execution_count": 23,
   "id": "59e3a25e",
   "metadata": {},
   "outputs": [
    {
     "data": {
      "text/plain": [
       "1     Chemistry\n",
       "2    Literature\n",
       "3      Medicine\n",
       "4         Peace\n",
       "5       Physics\n",
       "6     Economics\n",
       "dtype: object"
      ]
     },
     "execution_count": 23,
     "metadata": {},
     "output_type": "execute_result"
    }
   ],
   "source": [
    "my_unique.index +=1\n",
    "my_unique"
   ]
  },
  {
   "cell_type": "code",
   "execution_count": 24,
   "id": "df4f9e12",
   "metadata": {},
   "outputs": [
    {
     "data": {
      "text/plain": [
       "(array([1., 0., 1., 0., 1., 0., 1., 0., 1., 1.]),\n",
       " array([0. , 0.5, 1. , 1.5, 2. , 2.5, 3. , 3.5, 4. , 4.5, 5. ]),\n",
       " <a list of 10 Patch objects>)"
      ]
     },
     "execution_count": 24,
     "metadata": {},
     "output_type": "execute_result"
    },
    {
     "data": {
      "image/png": "[encoded data removed]",
      "text/plain": [
       "<Figure size 432x288 with 1 Axes>"
      ]
     },
     "metadata": {
      "needs_background": "light"
     },
     "output_type": "display_data"
    }
   ],
   "source": [
    "plt.hist(my_unique)"
   ]
  },
  {
   "cell_type": "code",
   "execution_count": null,
   "id": "1397b45a",
   "metadata": {},
   "outputs": [],
   "source": []
  },
  {
   "cell_type": "markdown",
   "id": "abab5c9f",
   "metadata": {},
   "source": [
    "# What are the yearly Nobel Prize Awards"
   ]
  },
  {
   "cell_type": "code",
   "execution_count": 33,
   "id": "bffe5589",
   "metadata": {},
   "outputs": [],
   "source": [
    "my_year_counts=nobel_df['year'].value_counts().to_frame().rename(columns={'Year':'count'})\n"
   ]
  },
  {
   "cell_type": "code",
   "execution_count": 35,
   "id": "1fc572bd",
   "metadata": {},
   "outputs": [
    {
     "name": "stdout",
     "output_type": "stream",
     "text": [
      "++++++++++++++++++++++++++++++++++++++++++++++++++++++++\n",
      "In the year:   2001\n",
      "Number of Awards: 15\n"
     ]
    }
   ],
   "source": [
    "max_year=my_year_counts['count'].idxmax()\n",
    "max_year_count=my_year_counts.at[max_year, 'count']\n",
    "print('++++++++++++++++++++++++++++++++++++++++++++++++++++++++')\n",
    "print(\"In the year: {:>6}\\nNumber of Awards: {}\".format(max_year, max_year_count))\n",
    "\n"
   ]
  },
  {
   "cell_type": "code",
   "execution_count": null,
   "id": "9416e91b",
   "metadata": {},
   "outputs": [],
   "source": []
  },
  {
   "cell_type": "markdown",
   "id": "9ed0650f",
   "metadata": {},
   "source": [
    "# Visualization of the number of Awards Per Year"
   ]
  },
  {
   "cell_type": "code",
   "execution_count": 51,
   "id": "5e9570d7",
   "metadata": {},
   "outputs": [
    {
     "data": {
      "text/plain": [
       "<BarContainer object of 113 artists>"
      ]
     },
     "execution_count": 51,
     "metadata": {},
     "output_type": "execute_result"
    },
    {
     "data": {
      "image/png": "[encoded data removed]",
      "text/plain": [
       "<Figure size 1440x720 with 1 Axes>"
      ]
     },
     "metadata": {
      "needs_background": "light"
     },
     "output_type": "display_data"
    }
   ],
   "source": [
    "plt.figure(figsize=(20, 10))\n",
    "plt.bar(my_year_counts.index, my_year_counts['count'])\n"
   ]
  },
  {
   "cell_type": "markdown",
   "id": "82a13bfe",
   "metadata": {},
   "source": [
    "# Observations from the plot"
   ]
  },
  {
   "cell_type": "markdown",
   "id": "2af50f56",
   "metadata": {},
   "source": [
    "### From the visualization, it is clear that there is an increasing\n",
    "### trend in the number of Nobel Prize recipients between the years (1900-2016)\n",
    "### There is missing bars near the 1940 year mark"
   ]
  },
  {
   "cell_type": "code",
   "execution_count": null,
   "id": "3b2646ad",
   "metadata": {},
   "outputs": [],
   "source": []
  },
  {
   "cell_type": "code",
   "execution_count": 55,
   "id": "274f2938",
   "metadata": {},
   "outputs": [
    {
     "name": "stdout",
     "output_type": "stream",
     "text": [
      "5 Nobel Prizes were Award in 1938\n",
      " \n",
      "5 Nobel Prizes were Award in 1939\n",
      " \n",
      "No Nobel prize was awarded in 1940\n",
      "\n",
      "No Nobel prize was awarded in 1941\n",
      "\n",
      "No Nobel prize was awarded in 1942\n",
      "\n",
      "4 Nobel Prizes were Award in 1943\n",
      " \n",
      "6 Nobel Prizes were Award in 1944\n",
      " \n",
      "7 Nobel Prizes were Award in 1945\n",
      " \n",
      "8 Nobel Prizes were Award in 1946\n",
      " \n",
      "8 Nobel Prizes were Award in 1947\n",
      " \n",
      "4 Nobel Prizes were Award in 1948\n",
      " \n",
      "6 Nobel Prizes were Award in 1949\n",
      " \n",
      "8 Nobel Prizes were Award in 1950\n",
      " \n",
      "7 Nobel Prizes were Award in 1951\n",
      " \n",
      "7 Nobel Prizes were Award in 1952\n",
      " \n",
      "6 Nobel Prizes were Award in 1953\n",
      " \n",
      "8 Nobel Prizes were Award in 1954\n",
      " \n",
      "5 Nobel Prizes were Award in 1955\n",
      " \n",
      "9 Nobel Prizes were Award in 1956\n",
      " \n",
      "6 Nobel Prizes were Award in 1957\n",
      " \n",
      "9 Nobel Prizes were Award in 1958\n",
      " \n",
      "7 Nobel Prizes were Award in 1959\n",
      " \n",
      "6 Nobel Prizes were Award in 1960\n",
      " \n",
      "6 Nobel Prizes were Award in 1961\n",
      " \n",
      "8 Nobel Prizes were Award in 1962\n",
      " \n",
      "11 Nobel Prizes were Award in 1963\n",
      " \n",
      "8 Nobel Prizes were Award in 1964\n",
      " \n",
      "9 Nobel Prizes were Award in 1965\n",
      " \n",
      "6 Nobel Prizes were Award in 1966\n",
      " \n",
      "8 Nobel Prizes were Award in 1967\n",
      " \n",
      "7 Nobel Prizes were Award in 1968\n",
      " \n",
      "10 Nobel Prizes were Award in 1969\n",
      " \n",
      "9 Nobel Prizes were Award in 1970\n",
      " \n",
      "6 Nobel Prizes were Award in 1971\n",
      " \n",
      "11 Nobel Prizes were Award in 1972\n",
      " \n",
      "12 Nobel Prizes were Award in 1973\n",
      " \n",
      "12 Nobel Prizes were Award in 1974\n",
      " \n",
      "12 Nobel Prizes were Award in 1975\n",
      " \n",
      "9 Nobel Prizes were Award in 1976\n",
      " \n",
      "11 Nobel Prizes were Award in 1977\n",
      " \n",
      "11 Nobel Prizes were Award in 1978\n",
      " \n",
      "11 Nobel Prizes were Award in 1979\n",
      " \n",
      "11 Nobel Prizes were Award in 1980\n",
      " \n",
      "11 Nobel Prizes were Award in 1981\n",
      " \n",
      "9 Nobel Prizes were Award in 1982\n",
      " \n",
      "7 Nobel Prizes were Award in 1983\n",
      " \n",
      "9 Nobel Prizes were Award in 1984\n",
      " \n",
      "8 Nobel Prizes were Award in 1985\n",
      " \n",
      "11 Nobel Prizes were Award in 1986\n",
      " \n",
      "9 Nobel Prizes were Award in 1987\n",
      " \n",
      "12 Nobel Prizes were Award in 1988\n",
      " \n",
      "10 Nobel Prizes were Award in 1989\n",
      " \n",
      "11 Nobel Prizes were Award in 1990\n",
      " \n",
      "7 Nobel Prizes were Award in 1991\n",
      " \n",
      "7 Nobel Prizes were Award in 1992\n",
      " \n",
      "11 Nobel Prizes were Award in 1993\n",
      " \n",
      "12 Nobel Prizes were Award in 1994\n",
      " \n",
      "12 Nobel Prizes were Award in 1995\n",
      " \n",
      "13 Nobel Prizes were Award in 1996\n",
      " \n",
      "12 Nobel Prizes were Award in 1997\n",
      " \n",
      "12 Nobel Prizes were Award in 1998\n",
      " \n",
      "7 Nobel Prizes were Award in 1999\n",
      " \n",
      "13 Nobel Prizes were Award in 2000\n",
      " \n",
      "15 Nobel Prizes were Award in 2001\n",
      " \n",
      "13 Nobel Prizes were Award in 2002\n",
      " \n",
      "11 Nobel Prizes were Award in 2003\n",
      " \n",
      "12 Nobel Prizes were Award in 2004\n",
      " \n",
      "13 Nobel Prizes were Award in 2005\n",
      " \n",
      "9 Nobel Prizes were Award in 2006\n",
      " \n",
      "12 Nobel Prizes were Award in 2007\n",
      " \n",
      "12 Nobel Prizes were Award in 2008\n",
      " \n",
      "13 Nobel Prizes were Award in 2009\n",
      " \n",
      "11 Nobel Prizes were Award in 2010\n",
      " \n",
      "13 Nobel Prizes were Award in 2011\n",
      " \n",
      "10 Nobel Prizes were Award in 2012\n",
      " \n",
      "13 Nobel Prizes were Award in 2013\n",
      " \n",
      "13 Nobel Prizes were Award in 2014\n",
      " \n",
      "11 Nobel Prizes were Award in 2015\n",
      " \n",
      "11 Nobel Prizes were Award in 2016\n",
      " \n",
      "No Nobel prize was awarded in 2017\n",
      "\n",
      "No Nobel prize was awarded in 2018\n",
      "\n",
      "No Nobel prize was awarded in 2019\n",
      "\n",
      "No Nobel prize was awarded in 2020\n",
      "\n",
      "No Nobel prize was awarded in 2021\n",
      "\n"
     ]
    }
   ],
   "source": [
    "#Getting  the Years\n",
    "years=list(nobel_df['year'])\n",
    "for year in range(1938, 2022):\n",
    "    \n",
    "    if year in years:\n",
    "        print('{} Nobel Prizes were Award in {}\\n '.format(my_year_counts.at[year, 'count'], year))\n",
    "    else:\n",
    "        print('No Nobel prize was awarded in {}\\n'.format(year))\n",
    "        "
   ]
  },
  {
   "cell_type": "code",
   "execution_count": null,
   "id": "ed1b748c",
   "metadata": {},
   "outputs": [],
   "source": []
  },
  {
   "cell_type": "code",
   "execution_count": null,
   "id": "d03e658c",
   "metadata": {},
   "outputs": [],
   "source": []
  },
  {
   "cell_type": "code",
   "execution_count": 52,
   "id": "56f6b2d8",
   "metadata": {},
   "outputs": [
    {
     "data": {
      "text/plain": [
       "<BarContainer object of 113 artists>"
      ]
     },
     "execution_count": 52,
     "metadata": {},
     "output_type": "execute_result"
    },
    {
     "data": {
      "image/png": "[encoded data removed]",
      "text/plain": [
       "<Figure size 1440x720 with 1 Axes>"
      ]
     },
     "metadata": {
      "needs_background": "light"
     },
     "output_type": "display_data"
    }
   ],
   "source": [
    "plt.figure(figsize=(20, 10))\n",
    "plt.barh(my_year_counts.index, my_year_counts['count'])\n"
   ]
  },
  {
   "cell_type": "code",
   "execution_count": null,
   "id": "fc8b95ab",
   "metadata": {},
   "outputs": [],
   "source": []
  },
  {
   "cell_type": "code",
   "execution_count": 50,
   "id": "9b08690f",
   "metadata": {},
   "outputs": [
    {
     "data": {
      "text/plain": [
       "(array([ 2.,  2., 19., 19., 17., 17.,  3., 25.,  8.,  1.]),\n",
       " array([ 1. ,  2.4,  3.8,  5.2,  6.6,  8. ,  9.4, 10.8, 12.2, 13.6, 15. ]),\n",
       " <a list of 10 Patch objects>)"
      ]
     },
     "execution_count": 50,
     "metadata": {},
     "output_type": "execute_result"
    },
    {
     "data": {
      "image/png": "[encoded data removed]",
      "text/plain": [
       "<Figure size 1296x432 with 1 Axes>"
      ]
     },
     "metadata": {
      "needs_background": "light"
     },
     "output_type": "display_data"
    }
   ],
   "source": [
    "plt.figure(figsize=(18, 6))\n",
    "plt.hist(my_year_counts['count'])\n"
   ]
  },
  {
   "cell_type": "code",
   "execution_count": null,
   "id": "328ecd59",
   "metadata": {},
   "outputs": [],
   "source": []
  },
  {
   "cell_type": "markdown",
   "id": "6629a3d8",
   "metadata": {},
   "source": [
    "### How Nobel Prize Recipients\n",
    "### Individual vs Shared Nobel Prize Recipients"
   ]
  },
  {
   "cell_type": "code",
   "execution_count": 56,
   "id": "c86974f5",
   "metadata": {},
   "outputs": [
    {
     "data": {
      "text/plain": [
       "prize_share\n",
       "1/1    344\n",
       "1/2    306\n",
       "1/3    201\n",
       "1/4     60\n",
       "Name: count, dtype: int64"
      ]
     },
     "execution_count": 56,
     "metadata": {},
     "output_type": "execute_result"
    }
   ],
   "source": [
    "nobel_df['prize_share'].value_counts()"
   ]
  },
  {
   "cell_type": "markdown",
   "id": "4b094fdb",
   "metadata": {},
   "source": [
    "# Observations \n",
    "- 1/2 : Prize shared among 2\n",
    "- 1/3 : Prize shared among 3\n",
    "- 1/4 : Prize shared among 4\n",
    "- 1/1 : Individual\n"
   ]
  },
  {
   "cell_type": "code",
   "execution_count": 57,
   "id": "a01f616d",
   "metadata": {},
   "outputs": [
    {
     "data": {
      "text/plain": [
       "prize_share\n",
       "1/1    344\n",
       "1/2    306\n",
       "1/3    201\n",
       "1/4     60\n",
       "Name: count, dtype: int64"
      ]
     },
     "execution_count": 57,
     "metadata": {},
     "output_type": "execute_result"
    }
   ],
   "source": [
    "#Checking the number of shared prizes \n",
    "nobel_df['prize_share'].value_counts()"
   ]
  },
  {
   "cell_type": "code",
   "execution_count": null,
   "id": "e13c2405",
   "metadata": {},
   "outputs": [],
   "source": []
  },
  {
   "cell_type": "code",
   "execution_count": 58,
   "id": "1bc68c13",
   "metadata": {},
   "outputs": [
    {
     "data": {
      "text/plain": [
       "911"
      ]
     },
     "execution_count": 58,
     "metadata": {},
     "output_type": "execute_result"
    }
   ],
   "source": [
    "#Count of Nobel Prize Winners\n",
    "len(nobel_df)"
   ]
  },
  {
   "cell_type": "markdown",
   "id": "4dce4345",
   "metadata": {},
   "source": [
    "### The number of Nobel Prizes Won by Gender (Male and Female Reciepints) "
   ]
  },
  {
   "cell_type": "code",
   "execution_count": 59,
   "id": "d0b5ea65",
   "metadata": {},
   "outputs": [
    {
     "data": {
      "text/plain": [
       "sex\n",
       "Male      836\n",
       "Female     49\n",
       "Name: count, dtype: int64"
      ]
     },
     "execution_count": 59,
     "metadata": {},
     "output_type": "execute_result"
    }
   ],
   "source": [
    "nobel_df['sex'].value_counts()"
   ]
  },
  {
   "cell_type": "code",
   "execution_count": null,
   "id": "64ce3ffc",
   "metadata": {},
   "outputs": [],
   "source": []
  },
  {
   "cell_type": "markdown",
   "id": "b6df0cb7",
   "metadata": {},
   "source": [
    "### What the Number of Nobel Prize Won by the TOP 15 Nationalities"
   ]
  },
  {
   "cell_type": "code",
   "execution_count": 62,
   "id": "6fac9049",
   "metadata": {},
   "outputs": [
    {
     "name": "stdout",
     "output_type": "stream",
     "text": [
      "++++++++++++++++++++++++++++++++++++++++++++++++\n",
      "birth_country\n",
      "United States of America    259\n",
      "United Kingdom               85\n",
      "Germany                      61\n",
      "France                       51\n",
      "Sweden                       29\n",
      "Japan                        24\n",
      "Canada                       18\n",
      "Netherlands                  18\n",
      "Italy                        17\n",
      "Russia                       17\n",
      "Switzerland                  16\n",
      "Austria                      14\n",
      "Norway                       12\n",
      "China                        11\n",
      "Denmark                      11\n",
      "Name: count, dtype: int64\n",
      "++++++++++++++++++++++++++++++++++++++++++++++++\n"
     ]
    }
   ],
   "source": [
    "print('++++++++++++++++++++++++++++++++++++++++++++++++')\n",
    "\n",
    "print(nobel_df['birth_country'].value_counts()[:15])\n",
    "print('++++++++++++++++++++++++++++++++++++++++++++++++')\n"
   ]
  },
  {
   "cell_type": "code",
   "execution_count": null,
   "id": "88bb2079",
   "metadata": {},
   "outputs": [],
   "source": []
  },
  {
   "cell_type": "code",
   "execution_count": 65,
   "id": "1e3afa8a",
   "metadata": {},
   "outputs": [],
   "source": [
    "df=(nobel_df['birth_country'].value_counts()[:15])"
   ]
  },
  {
   "cell_type": "code",
   "execution_count": 66,
   "id": "fd70e667",
   "metadata": {},
   "outputs": [
    {
     "data": {
      "text/plain": [
       "42.86666666666667"
      ]
     },
     "execution_count": 66,
     "metadata": {},
     "output_type": "execute_result"
    }
   ],
   "source": [
    "df.mean()"
   ]
  },
  {
   "cell_type": "code",
   "execution_count": 67,
   "id": "7b2c43a7",
   "metadata": {},
   "outputs": [
    {
     "data": {
      "text/plain": [
       "643"
      ]
     },
     "execution_count": 67,
     "metadata": {},
     "output_type": "execute_result"
    }
   ],
   "source": [
    "df.sum()"
   ]
  },
  {
   "cell_type": "markdown",
   "id": "bfe2f0d7",
   "metadata": {},
   "source": [
    "# Observations "
   ]
  },
  {
   "cell_type": "code",
   "execution_count": null,
   "id": "48a0d2bc",
   "metadata": {},
   "outputs": [],
   "source": [
    "#USA has the most Nobel Prize winners\n"
   ]
  },
  {
   "cell_type": "code",
   "execution_count": 68,
   "id": "6d26a470",
   "metadata": {},
   "outputs": [
    {
     "data": {
      "text/plain": [
       "USA_born\n",
       "False    652\n",
       "True     259\n",
       "Name: count, dtype: int64"
      ]
     },
     "execution_count": 68,
     "metadata": {},
     "output_type": "execute_result"
    }
   ],
   "source": [
    "nobel_df['USA_born']=nobel_df['birth_country']=='United States of America'\n",
    "nobel_df['USA_born'].value_counts()"
   ]
  },
  {
   "cell_type": "code",
   "execution_count": null,
   "id": "d0ffc91b",
   "metadata": {},
   "outputs": [],
   "source": []
  },
  {
   "cell_type": "code",
   "execution_count": 74,
   "id": "ad2abb89",
   "metadata": {},
   "outputs": [
    {
     "data": {
      "text/plain": [
       "Germany\n",
       "False    850\n",
       "True      61\n",
       "Name: count, dtype: int64"
      ]
     },
     "execution_count": 74,
     "metadata": {},
     "output_type": "execute_result"
    }
   ],
   "source": [
    "nobel_df['Germany']=nobel_df['birth_country']=='Germany'\n",
    "nobel_df['Germany'].value_counts()"
   ]
  },
  {
   "cell_type": "code",
   "execution_count": 71,
   "id": "52f0c857",
   "metadata": {},
   "outputs": [
    {
     "data": {
      "text/plain": [
       "Germany\n",
       "False    850\n",
       "True      61\n",
       "Name: count, dtype: int64"
      ]
     },
     "execution_count": 71,
     "metadata": {},
     "output_type": "execute_result"
    }
   ],
   "source": [
    "germ"
   ]
  },
  {
   "cell_type": "code",
   "execution_count": 77,
   "id": "3f9f2d15",
   "metadata": {},
   "outputs": [
    {
     "data": {
      "text/plain": [
       "decade\n",
       "2000    123\n",
       "1970    104\n",
       "1990    104\n",
       "1980     97\n",
       "2010     82\n",
       "1960     79\n",
       "1950     72\n",
       "1900     57\n",
       "1930     56\n",
       "1920     54\n",
       "1940     43\n",
       "1910     40\n",
       "Name: count, dtype: int64"
      ]
     },
     "execution_count": 77,
     "metadata": {},
     "output_type": "execute_result"
    }
   ],
   "source": [
    "nobel_df['decade'] = (np.floor(nobel_df['year']/10)*10).astype(int)\n",
    "nobel_df['decade'].value_counts()"
   ]
  },
  {
   "cell_type": "code",
   "execution_count": 80,
   "id": "da580ff1",
   "metadata": {},
   "outputs": [
    {
     "data": {
      "text/plain": [
       "Index(['year', 'category', 'prize', 'motivation', 'prize_share', 'laureate_id',\n",
       "       'laureate_type', 'full_name', 'birth_date', 'birth_city',\n",
       "       'birth_country', 'sex', 'organization_name', 'organization_city',\n",
       "       'organization_country', 'death_date', 'death_city', 'death_country',\n",
       "       'USA_born', 'Germany', 'decade'],\n",
       "      dtype='object')"
      ]
     },
     "execution_count": 80,
     "metadata": {},
     "output_type": "execute_result"
    }
   ],
   "source": [
    "nobel_df.columns"
   ]
  },
  {
   "cell_type": "code",
   "execution_count": 81,
   "id": "7ed6be93",
   "metadata": {},
   "outputs": [
    {
     "data": {
      "text/html": [
       "<div>\n",
       "<style scoped>\n",
       "    .dataframe tbody tr th:only-of-type {\n",
       "        vertical-align: middle;\n",
       "    }\n",
       "\n",
       "    .dataframe tbody tr th {\n",
       "        vertical-align: top;\n",
       "    }\n",
       "\n",
       "    .dataframe thead th {\n",
       "        text-align: right;\n",
       "    }\n",
       "</style>\n",
       "<table border=\"1\" class=\"dataframe\">\n",
       "  <thead>\n",
       "    <tr style=\"text-align: right;\">\n",
       "      <th></th>\n",
       "      <th>decade</th>\n",
       "      <th>USA_born</th>\n",
       "    </tr>\n",
       "  </thead>\n",
       "  <tbody>\n",
       "    <tr>\n",
       "      <th>0</th>\n",
       "      <td>1900</td>\n",
       "      <td>0.017544</td>\n",
       "    </tr>\n",
       "    <tr>\n",
       "      <th>1</th>\n",
       "      <td>1910</td>\n",
       "      <td>0.075000</td>\n",
       "    </tr>\n",
       "    <tr>\n",
       "      <th>2</th>\n",
       "      <td>1920</td>\n",
       "      <td>0.074074</td>\n",
       "    </tr>\n",
       "    <tr>\n",
       "      <th>3</th>\n",
       "      <td>1930</td>\n",
       "      <td>0.250000</td>\n",
       "    </tr>\n",
       "    <tr>\n",
       "      <th>4</th>\n",
       "      <td>1940</td>\n",
       "      <td>0.302326</td>\n",
       "    </tr>\n",
       "    <tr>\n",
       "      <th>5</th>\n",
       "      <td>1950</td>\n",
       "      <td>0.291667</td>\n",
       "    </tr>\n",
       "    <tr>\n",
       "      <th>6</th>\n",
       "      <td>1960</td>\n",
       "      <td>0.265823</td>\n",
       "    </tr>\n",
       "    <tr>\n",
       "      <th>7</th>\n",
       "      <td>1970</td>\n",
       "      <td>0.317308</td>\n",
       "    </tr>\n",
       "    <tr>\n",
       "      <th>8</th>\n",
       "      <td>1980</td>\n",
       "      <td>0.319588</td>\n",
       "    </tr>\n",
       "    <tr>\n",
       "      <th>9</th>\n",
       "      <td>1990</td>\n",
       "      <td>0.403846</td>\n",
       "    </tr>\n",
       "    <tr>\n",
       "      <th>10</th>\n",
       "      <td>2000</td>\n",
       "      <td>0.422764</td>\n",
       "    </tr>\n",
       "    <tr>\n",
       "      <th>11</th>\n",
       "      <td>2010</td>\n",
       "      <td>0.292683</td>\n",
       "    </tr>\n",
       "  </tbody>\n",
       "</table>\n",
       "</div>"
      ],
      "text/plain": [
       "    decade  USA_born\n",
       "0     1900  0.017544\n",
       "1     1910  0.075000\n",
       "2     1920  0.074074\n",
       "3     1930  0.250000\n",
       "4     1940  0.302326\n",
       "5     1950  0.291667\n",
       "6     1960  0.265823\n",
       "7     1970  0.317308\n",
       "8     1980  0.319588\n",
       "9     1990  0.403846\n",
       "10    2000  0.422764\n",
       "11    2010  0.292683"
      ]
     },
     "execution_count": 81,
     "metadata": {},
     "output_type": "execute_result"
    }
   ],
   "source": [
    "prop_usa_born_winners = nobel_df.groupby('decade', as_index=False)['USA_born'].mean()\n",
    "prop_usa_born_winners"
   ]
  },
  {
   "cell_type": "code",
   "execution_count": 85,
   "id": "fca02da0",
   "metadata": {},
   "outputs": [
    {
     "data": {
      "text/plain": [
       "(array([[1., 0., 0., 0., 0., 0., 0., 0., 0., 1.],\n",
       "        [1., 0., 0., 0., 0., 0., 0., 0., 0., 1.],\n",
       "        [1., 0., 0., 0., 0., 0., 0., 0., 0., 1.],\n",
       "        [1., 0., 0., 0., 0., 0., 0., 0., 0., 1.],\n",
       "        [1., 0., 0., 0., 0., 0., 0., 0., 0., 1.],\n",
       "        [1., 0., 0., 0., 0., 0., 0., 0., 0., 1.],\n",
       "        [1., 0., 0., 0., 0., 0., 0., 0., 0., 1.],\n",
       "        [1., 0., 0., 0., 0., 0., 0., 0., 0., 1.],\n",
       "        [1., 0., 0., 0., 0., 0., 0., 0., 0., 1.],\n",
       "        [1., 0., 0., 0., 0., 0., 0., 0., 0., 1.],\n",
       "        [1., 0., 0., 0., 0., 0., 0., 0., 0., 1.],\n",
       "        [1., 0., 0., 0., 0., 0., 0., 0., 0., 1.]]),\n",
       " array([1.75438596e-02, 2.01015789e+02, 4.02014035e+02, 6.03012281e+02,\n",
       "        8.04010526e+02, 1.00500877e+03, 1.20600702e+03, 1.40700526e+03,\n",
       "        1.60800351e+03, 1.80900175e+03, 2.01000000e+03]),\n",
       " <a list of 12 Lists of Patches objects>)"
      ]
     },
     "execution_count": 85,
     "metadata": {},
     "output_type": "execute_result"
    },
    {
     "data": {
      "image/png": "[encoded data removed]",
      "text/plain": [
       "<Figure size 432x288 with 1 Axes>"
      ]
     },
     "metadata": {
      "needs_background": "light"
     },
     "output_type": "display_data"
    }
   ],
   "source": [
    "plt.hist(prop_usa_born_winners)"
   ]
  },
  {
   "cell_type": "code",
   "execution_count": null,
   "id": "f32898fc",
   "metadata": {},
   "outputs": [],
   "source": []
  },
  {
   "cell_type": "code",
   "execution_count": null,
   "id": "a1fbbe53",
   "metadata": {},
   "outputs": [],
   "source": []
  },
  {
   "cell_type": "markdown",
   "id": "767fdc86",
   "metadata": {},
   "source": [
    "# Visualization of this dominance of USA"
   ]
  },
  {
   "cell_type": "code",
   "execution_count": 86,
   "id": "00be82ab",
   "metadata": {},
   "outputs": [
    {
     "data": {
      "image/png": "[encoded data removed]",
      "text/plain": [
       "<Figure size 720x360 with 1 Axes>"
      ]
     },
     "metadata": {},
     "output_type": "display_data"
    }
   ],
   "source": [
    "sns.set()\n",
    "plt.figure(figsize=(10, 5))\n",
    "my_plot=sns.lineplot(x='decade', y='USA_born', data=prop_usa_born_winners)\n",
    "my_plot.yaxis.set_major_formatter(PercentFormatter(1.0))\n"
   ]
  },
  {
   "cell_type": "code",
   "execution_count": 88,
   "id": "4efa8167",
   "metadata": {},
   "outputs": [
    {
     "data": {
      "text/plain": [
       "female_recipient\n",
       "False    862\n",
       "True      49\n",
       "Name: count, dtype: int64"
      ]
     },
     "execution_count": 88,
     "metadata": {},
     "output_type": "execute_result"
    }
   ],
   "source": [
    "#Proportion of Female laureates per decade\n",
    "nobel_df['female_recipient']=nobel_df['sex'] == 'Female'\n",
    "nobel_df['female_recipient'].value_counts()"
   ]
  },
  {
   "cell_type": "code",
   "execution_count": 89,
   "id": "e8955bad",
   "metadata": {},
   "outputs": [
    {
     "data": {
      "text/plain": [
       "decade  category  \n",
       "1900    Chemistry     0.000000\n",
       "        Literature    0.100000\n",
       "        Medicine      0.000000\n",
       "        Peace         0.071429\n",
       "        Physics       0.076923\n",
       "1910    Chemistry     0.125000\n",
       "        Literature    0.000000\n",
       "        Medicine      0.000000\n",
       "        Peace         0.000000\n",
       "        Physics       0.000000\n",
       "1920    Chemistry     0.000000\n",
       "        Literature    0.200000\n",
       "        Medicine      0.000000\n",
       "        Peace         0.000000\n",
       "        Physics       0.000000\n",
       "1930    Chemistry     0.076923\n",
       "        Literature    0.111111\n",
       "        Medicine      0.000000\n",
       "        Peace         0.111111\n",
       "        Physics       0.000000\n",
       "1940    Chemistry     0.000000\n",
       "        Literature    0.166667\n",
       "        Medicine      0.071429\n",
       "        Peace         0.142857\n",
       "        Physics       0.000000\n",
       "1950    Chemistry     0.000000\n",
       "        Literature    0.000000\n",
       "        Medicine      0.000000\n",
       "        Peace         0.000000\n",
       "        Physics       0.000000\n",
       "1960    Chemistry     0.066667\n",
       "        Economics     0.000000\n",
       "        Literature    0.090909\n",
       "        Medicine      0.000000\n",
       "        Peace         0.000000\n",
       "        Physics       0.058824\n",
       "1970    Chemistry     0.000000\n",
       "        Economics     0.000000\n",
       "        Literature    0.000000\n",
       "        Medicine      0.040000\n",
       "        Peace         0.230769\n",
       "        Physics       0.000000\n",
       "1980    Chemistry     0.000000\n",
       "        Economics     0.000000\n",
       "        Literature    0.000000\n",
       "        Medicine      0.130435\n",
       "        Peace         0.090909\n",
       "        Physics       0.000000\n",
       "1990    Chemistry     0.000000\n",
       "        Economics     0.000000\n",
       "        Literature    0.300000\n",
       "        Medicine      0.050000\n",
       "        Peace         0.176471\n",
       "        Physics       0.000000\n",
       "2000    Chemistry     0.040000\n",
       "        Economics     0.050000\n",
       "        Literature    0.300000\n",
       "        Medicine      0.153846\n",
       "        Peace         0.142857\n",
       "        Physics       0.000000\n",
       "2010    Chemistry     0.000000\n",
       "        Economics     0.000000\n",
       "        Literature    0.285714\n",
       "        Medicine      0.125000\n",
       "        Peace         0.400000\n",
       "        Physics       0.000000\n",
       "Name: female_recipient, dtype: float64"
      ]
     },
     "execution_count": 89,
     "metadata": {},
     "output_type": "execute_result"
    }
   ],
   "source": [
    "prop_female_recipients = nobel_df.groupby(['decade','category'], as_index=True)['female_recipient'].mean()\n",
    "prop_female_recipients"
   ]
  },
  {
   "cell_type": "code",
   "execution_count": null,
   "id": "760719eb",
   "metadata": {},
   "outputs": [],
   "source": []
  },
  {
   "cell_type": "code",
   "execution_count": 93,
   "id": "847fda35",
   "metadata": {},
   "outputs": [
    {
     "data": {
      "image/png": "[encoded data removed]",
      "text/plain": [
       "<Figure size 1440x720 with 1 Axes>"
      ]
     },
     "metadata": {},
     "output_type": "display_data"
    }
   ],
   "source": [
    "plt.figure(figsize=(20, 10))\n",
    "my_plot=sns.lineplot(x='decade', y='female_recipient', hue='category', data=prop_female_recipients.reset_index(drop=False))\n"
   ]
  },
  {
   "cell_type": "code",
   "execution_count": null,
   "id": "fc1a6ab5",
   "metadata": {},
   "outputs": [],
   "source": []
  },
  {
   "cell_type": "markdown",
   "id": "1ae0ccfc",
   "metadata": {},
   "source": [
    "# Who was the first Woman to Win Nobel Prize"
   ]
  },
  {
   "cell_type": "code",
   "execution_count": 94,
   "id": "ac3aae06",
   "metadata": {},
   "outputs": [
    {
     "data": {
      "text/plain": [
       "female_recipient\n",
       "False    862\n",
       "True      49\n",
       "Name: count, dtype: int64"
      ]
     },
     "execution_count": 94,
     "metadata": {},
     "output_type": "execute_result"
    }
   ],
   "source": [
    "nobel_df['female_recipient'].value_counts()"
   ]
  },
  {
   "cell_type": "code",
   "execution_count": 95,
   "id": "1d768088",
   "metadata": {},
   "outputs": [],
   "source": [
    "female_recipient=nobel_df[nobel_df['sex'] == 'Female'].nsmallest(1, 'year')\n"
   ]
  },
  {
   "cell_type": "code",
   "execution_count": 96,
   "id": "2ec1d38d",
   "metadata": {},
   "outputs": [
    {
     "data": {
      "text/html": [
       "<div>\n",
       "<style scoped>\n",
       "    .dataframe tbody tr th:only-of-type {\n",
       "        vertical-align: middle;\n",
       "    }\n",
       "\n",
       "    .dataframe tbody tr th {\n",
       "        vertical-align: top;\n",
       "    }\n",
       "\n",
       "    .dataframe thead th {\n",
       "        text-align: right;\n",
       "    }\n",
       "</style>\n",
       "<table border=\"1\" class=\"dataframe\">\n",
       "  <thead>\n",
       "    <tr style=\"text-align: right;\">\n",
       "      <th></th>\n",
       "      <th>year</th>\n",
       "      <th>category</th>\n",
       "      <th>prize</th>\n",
       "      <th>motivation</th>\n",
       "      <th>prize_share</th>\n",
       "      <th>laureate_id</th>\n",
       "      <th>laureate_type</th>\n",
       "      <th>full_name</th>\n",
       "      <th>birth_date</th>\n",
       "      <th>birth_city</th>\n",
       "      <th>...</th>\n",
       "      <th>organization_name</th>\n",
       "      <th>organization_city</th>\n",
       "      <th>organization_country</th>\n",
       "      <th>death_date</th>\n",
       "      <th>death_city</th>\n",
       "      <th>death_country</th>\n",
       "      <th>USA_born</th>\n",
       "      <th>Germany</th>\n",
       "      <th>decade</th>\n",
       "      <th>female_recipient</th>\n",
       "    </tr>\n",
       "  </thead>\n",
       "  <tbody>\n",
       "    <tr>\n",
       "      <th>19</th>\n",
       "      <td>1903</td>\n",
       "      <td>Physics</td>\n",
       "      <td>The Nobel Prize in Physics 1903</td>\n",
       "      <td>\"in recognition of the extraordinary services ...</td>\n",
       "      <td>1/4</td>\n",
       "      <td>6</td>\n",
       "      <td>Individual</td>\n",
       "      <td>Marie Curie, née Sklodowska</td>\n",
       "      <td>1867-11-07</td>\n",
       "      <td>Warsaw</td>\n",
       "      <td>...</td>\n",
       "      <td>NaN</td>\n",
       "      <td>NaN</td>\n",
       "      <td>NaN</td>\n",
       "      <td>1934-07-04</td>\n",
       "      <td>Sallanches</td>\n",
       "      <td>France</td>\n",
       "      <td>False</td>\n",
       "      <td>False</td>\n",
       "      <td>1900</td>\n",
       "      <td>True</td>\n",
       "    </tr>\n",
       "  </tbody>\n",
       "</table>\n",
       "<p>1 rows × 22 columns</p>\n",
       "</div>"
      ],
      "text/plain": [
       "    year category                            prize  \\\n",
       "19  1903  Physics  The Nobel Prize in Physics 1903   \n",
       "\n",
       "                                           motivation prize_share  \\\n",
       "19  \"in recognition of the extraordinary services ...         1/4   \n",
       "\n",
       "    laureate_id laureate_type                    full_name  birth_date  \\\n",
       "19            6    Individual  Marie Curie, née Sklodowska  1867-11-07   \n",
       "\n",
       "   birth_city  ... organization_name organization_city organization_country  \\\n",
       "19     Warsaw  ...               NaN               NaN                  NaN   \n",
       "\n",
       "    death_date  death_city death_country USA_born Germany  decade  \\\n",
       "19  1934-07-04  Sallanches        France    False   False    1900   \n",
       "\n",
       "    female_recipient  \n",
       "19              True  \n",
       "\n",
       "[1 rows x 22 columns]"
      ]
     },
     "execution_count": 96,
     "metadata": {},
     "output_type": "execute_result"
    }
   ],
   "source": [
    "female_recipient"
   ]
  },
  {
   "cell_type": "markdown",
   "id": "12885ea6",
   "metadata": {},
   "source": [
    "### Great! The first woman to win the Nobel Prize is Curie, Maria in Physics in 1903"
   ]
  },
  {
   "cell_type": "code",
   "execution_count": null,
   "id": "99fa391e",
   "metadata": {},
   "outputs": [],
   "source": []
  },
  {
   "cell_type": "markdown",
   "id": "aab8a114",
   "metadata": {},
   "source": []
  },
  {
   "cell_type": "code",
   "execution_count": 97,
   "id": "554fc76b",
   "metadata": {},
   "outputs": [
    {
     "data": {
      "text/html": [
       "<div>\n",
       "<style scoped>\n",
       "    .dataframe tbody tr th:only-of-type {\n",
       "        vertical-align: middle;\n",
       "    }\n",
       "\n",
       "    .dataframe tbody tr th {\n",
       "        vertical-align: top;\n",
       "    }\n",
       "\n",
       "    .dataframe thead th {\n",
       "        text-align: right;\n",
       "    }\n",
       "</style>\n",
       "<table border=\"1\" class=\"dataframe\">\n",
       "  <thead>\n",
       "    <tr style=\"text-align: right;\">\n",
       "      <th></th>\n",
       "      <th>year</th>\n",
       "      <th>category</th>\n",
       "      <th>prize</th>\n",
       "      <th>motivation</th>\n",
       "      <th>prize_share</th>\n",
       "      <th>laureate_id</th>\n",
       "      <th>laureate_type</th>\n",
       "      <th>full_name</th>\n",
       "      <th>birth_date</th>\n",
       "      <th>birth_city</th>\n",
       "      <th>...</th>\n",
       "      <th>organization_name</th>\n",
       "      <th>organization_city</th>\n",
       "      <th>organization_country</th>\n",
       "      <th>death_date</th>\n",
       "      <th>death_city</th>\n",
       "      <th>death_country</th>\n",
       "      <th>USA_born</th>\n",
       "      <th>Germany</th>\n",
       "      <th>decade</th>\n",
       "      <th>female_recipient</th>\n",
       "    </tr>\n",
       "  </thead>\n",
       "  <tbody>\n",
       "    <tr>\n",
       "      <th>19</th>\n",
       "      <td>1903</td>\n",
       "      <td>Physics</td>\n",
       "      <td>The Nobel Prize in Physics 1903</td>\n",
       "      <td>\"in recognition of the extraordinary services ...</td>\n",
       "      <td>1/4</td>\n",
       "      <td>6</td>\n",
       "      <td>Individual</td>\n",
       "      <td>Marie Curie, née Sklodowska</td>\n",
       "      <td>1867-11-07</td>\n",
       "      <td>Warsaw</td>\n",
       "      <td>...</td>\n",
       "      <td>NaN</td>\n",
       "      <td>NaN</td>\n",
       "      <td>NaN</td>\n",
       "      <td>1934-07-04</td>\n",
       "      <td>Sallanches</td>\n",
       "      <td>France</td>\n",
       "      <td>False</td>\n",
       "      <td>False</td>\n",
       "      <td>1900</td>\n",
       "      <td>True</td>\n",
       "    </tr>\n",
       "    <tr>\n",
       "      <th>62</th>\n",
       "      <td>1911</td>\n",
       "      <td>Chemistry</td>\n",
       "      <td>The Nobel Prize in Chemistry 1911</td>\n",
       "      <td>\"in recognition of her services to the advance...</td>\n",
       "      <td>1/1</td>\n",
       "      <td>6</td>\n",
       "      <td>Individual</td>\n",
       "      <td>Marie Curie, née Sklodowska</td>\n",
       "      <td>1867-11-07</td>\n",
       "      <td>Warsaw</td>\n",
       "      <td>...</td>\n",
       "      <td>Sorbonne University</td>\n",
       "      <td>Paris</td>\n",
       "      <td>France</td>\n",
       "      <td>1934-07-04</td>\n",
       "      <td>Sallanches</td>\n",
       "      <td>France</td>\n",
       "      <td>False</td>\n",
       "      <td>False</td>\n",
       "      <td>1910</td>\n",
       "      <td>True</td>\n",
       "    </tr>\n",
       "    <tr>\n",
       "      <th>89</th>\n",
       "      <td>1917</td>\n",
       "      <td>Peace</td>\n",
       "      <td>The Nobel Peace Prize 1917</td>\n",
       "      <td>NaN</td>\n",
       "      <td>1/1</td>\n",
       "      <td>482</td>\n",
       "      <td>Organization</td>\n",
       "      <td>Comité international de la Croix Rouge (Intern...</td>\n",
       "      <td>NaN</td>\n",
       "      <td>NaN</td>\n",
       "      <td>...</td>\n",
       "      <td>NaN</td>\n",
       "      <td>NaN</td>\n",
       "      <td>NaN</td>\n",
       "      <td>NaN</td>\n",
       "      <td>NaN</td>\n",
       "      <td>NaN</td>\n",
       "      <td>False</td>\n",
       "      <td>False</td>\n",
       "      <td>1910</td>\n",
       "      <td>False</td>\n",
       "    </tr>\n",
       "    <tr>\n",
       "      <th>215</th>\n",
       "      <td>1944</td>\n",
       "      <td>Peace</td>\n",
       "      <td>The Nobel Peace Prize 1944</td>\n",
       "      <td>NaN</td>\n",
       "      <td>1/1</td>\n",
       "      <td>482</td>\n",
       "      <td>Organization</td>\n",
       "      <td>Comité international de la Croix Rouge (Intern...</td>\n",
       "      <td>NaN</td>\n",
       "      <td>NaN</td>\n",
       "      <td>...</td>\n",
       "      <td>NaN</td>\n",
       "      <td>NaN</td>\n",
       "      <td>NaN</td>\n",
       "      <td>NaN</td>\n",
       "      <td>NaN</td>\n",
       "      <td>NaN</td>\n",
       "      <td>False</td>\n",
       "      <td>False</td>\n",
       "      <td>1940</td>\n",
       "      <td>False</td>\n",
       "    </tr>\n",
       "    <tr>\n",
       "      <th>278</th>\n",
       "      <td>1954</td>\n",
       "      <td>Chemistry</td>\n",
       "      <td>The Nobel Prize in Chemistry 1954</td>\n",
       "      <td>\"for his research into the nature of the chemi...</td>\n",
       "      <td>1/1</td>\n",
       "      <td>217</td>\n",
       "      <td>Individual</td>\n",
       "      <td>Linus Carl Pauling</td>\n",
       "      <td>1901-02-28</td>\n",
       "      <td>Portland, OR</td>\n",
       "      <td>...</td>\n",
       "      <td>California Institute of Technology (Caltech)</td>\n",
       "      <td>Pasadena, CA</td>\n",
       "      <td>United States of America</td>\n",
       "      <td>1994-08-19</td>\n",
       "      <td>Big Sur, CA</td>\n",
       "      <td>United States of America</td>\n",
       "      <td>True</td>\n",
       "      <td>False</td>\n",
       "      <td>1950</td>\n",
       "      <td>False</td>\n",
       "    </tr>\n",
       "    <tr>\n",
       "      <th>283</th>\n",
       "      <td>1954</td>\n",
       "      <td>Peace</td>\n",
       "      <td>The Nobel Peace Prize 1954</td>\n",
       "      <td>NaN</td>\n",
       "      <td>1/1</td>\n",
       "      <td>515</td>\n",
       "      <td>Organization</td>\n",
       "      <td>Office of the United Nations High Commissioner...</td>\n",
       "      <td>NaN</td>\n",
       "      <td>NaN</td>\n",
       "      <td>...</td>\n",
       "      <td>NaN</td>\n",
       "      <td>NaN</td>\n",
       "      <td>NaN</td>\n",
       "      <td>NaN</td>\n",
       "      <td>NaN</td>\n",
       "      <td>NaN</td>\n",
       "      <td>False</td>\n",
       "      <td>False</td>\n",
       "      <td>1950</td>\n",
       "      <td>False</td>\n",
       "    </tr>\n",
       "    <tr>\n",
       "      <th>298</th>\n",
       "      <td>1956</td>\n",
       "      <td>Physics</td>\n",
       "      <td>The Nobel Prize in Physics 1956</td>\n",
       "      <td>\"for their researches on semiconductors and th...</td>\n",
       "      <td>1/3</td>\n",
       "      <td>66</td>\n",
       "      <td>Individual</td>\n",
       "      <td>John Bardeen</td>\n",
       "      <td>1908-05-23</td>\n",
       "      <td>Madison, WI</td>\n",
       "      <td>...</td>\n",
       "      <td>University of Illinois</td>\n",
       "      <td>Urbana, IL</td>\n",
       "      <td>United States of America</td>\n",
       "      <td>1991-01-30</td>\n",
       "      <td>Boston, MA</td>\n",
       "      <td>United States of America</td>\n",
       "      <td>True</td>\n",
       "      <td>False</td>\n",
       "      <td>1950</td>\n",
       "      <td>False</td>\n",
       "    </tr>\n",
       "    <tr>\n",
       "      <th>306</th>\n",
       "      <td>1958</td>\n",
       "      <td>Chemistry</td>\n",
       "      <td>The Nobel Prize in Chemistry 1958</td>\n",
       "      <td>\"for his work on the structure of proteins, es...</td>\n",
       "      <td>1/1</td>\n",
       "      <td>222</td>\n",
       "      <td>Individual</td>\n",
       "      <td>Frederick Sanger</td>\n",
       "      <td>1918-08-13</td>\n",
       "      <td>Rendcombe</td>\n",
       "      <td>...</td>\n",
       "      <td>University of Cambridge</td>\n",
       "      <td>Cambridge</td>\n",
       "      <td>United Kingdom</td>\n",
       "      <td>2013-11-19</td>\n",
       "      <td>Cambridge</td>\n",
       "      <td>United Kingdom</td>\n",
       "      <td>False</td>\n",
       "      <td>False</td>\n",
       "      <td>1950</td>\n",
       "      <td>False</td>\n",
       "    </tr>\n",
       "    <tr>\n",
       "      <th>340</th>\n",
       "      <td>1962</td>\n",
       "      <td>Peace</td>\n",
       "      <td>The Nobel Peace Prize 1962</td>\n",
       "      <td>NaN</td>\n",
       "      <td>1/1</td>\n",
       "      <td>217</td>\n",
       "      <td>Individual</td>\n",
       "      <td>Linus Carl Pauling</td>\n",
       "      <td>1901-02-28</td>\n",
       "      <td>Portland, OR</td>\n",
       "      <td>...</td>\n",
       "      <td>California Institute of Technology (Caltech)</td>\n",
       "      <td>Pasadena, CA</td>\n",
       "      <td>United States of America</td>\n",
       "      <td>1994-08-19</td>\n",
       "      <td>Big Sur, CA</td>\n",
       "      <td>United States of America</td>\n",
       "      <td>True</td>\n",
       "      <td>False</td>\n",
       "      <td>1960</td>\n",
       "      <td>False</td>\n",
       "    </tr>\n",
       "    <tr>\n",
       "      <th>348</th>\n",
       "      <td>1963</td>\n",
       "      <td>Peace</td>\n",
       "      <td>The Nobel Peace Prize 1963</td>\n",
       "      <td>NaN</td>\n",
       "      <td>1/2</td>\n",
       "      <td>482</td>\n",
       "      <td>Organization</td>\n",
       "      <td>Comité international de la Croix Rouge (Intern...</td>\n",
       "      <td>NaN</td>\n",
       "      <td>NaN</td>\n",
       "      <td>...</td>\n",
       "      <td>NaN</td>\n",
       "      <td>NaN</td>\n",
       "      <td>NaN</td>\n",
       "      <td>NaN</td>\n",
       "      <td>NaN</td>\n",
       "      <td>NaN</td>\n",
       "      <td>False</td>\n",
       "      <td>False</td>\n",
       "      <td>1960</td>\n",
       "      <td>False</td>\n",
       "    </tr>\n",
       "    <tr>\n",
       "      <th>424</th>\n",
       "      <td>1972</td>\n",
       "      <td>Physics</td>\n",
       "      <td>The Nobel Prize in Physics 1972</td>\n",
       "      <td>\"for their jointly developed theory of superco...</td>\n",
       "      <td>1/3</td>\n",
       "      <td>66</td>\n",
       "      <td>Individual</td>\n",
       "      <td>John Bardeen</td>\n",
       "      <td>1908-05-23</td>\n",
       "      <td>Madison, WI</td>\n",
       "      <td>...</td>\n",
       "      <td>University of Illinois</td>\n",
       "      <td>Urbana, IL</td>\n",
       "      <td>United States of America</td>\n",
       "      <td>1991-01-30</td>\n",
       "      <td>Boston, MA</td>\n",
       "      <td>United States of America</td>\n",
       "      <td>True</td>\n",
       "      <td>False</td>\n",
       "      <td>1970</td>\n",
       "      <td>False</td>\n",
       "    </tr>\n",
       "    <tr>\n",
       "      <th>505</th>\n",
       "      <td>1980</td>\n",
       "      <td>Chemistry</td>\n",
       "      <td>The Nobel Prize in Chemistry 1980</td>\n",
       "      <td>\"for their contributions concerning the determ...</td>\n",
       "      <td>1/4</td>\n",
       "      <td>222</td>\n",
       "      <td>Individual</td>\n",
       "      <td>Frederick Sanger</td>\n",
       "      <td>1918-08-13</td>\n",
       "      <td>Rendcombe</td>\n",
       "      <td>...</td>\n",
       "      <td>MRC Laboratory of Molecular Biology</td>\n",
       "      <td>Cambridge</td>\n",
       "      <td>United Kingdom</td>\n",
       "      <td>2013-11-19</td>\n",
       "      <td>Cambridge</td>\n",
       "      <td>United Kingdom</td>\n",
       "      <td>False</td>\n",
       "      <td>False</td>\n",
       "      <td>1980</td>\n",
       "      <td>False</td>\n",
       "    </tr>\n",
       "    <tr>\n",
       "      <th>523</th>\n",
       "      <td>1981</td>\n",
       "      <td>Peace</td>\n",
       "      <td>The Nobel Peace Prize 1981</td>\n",
       "      <td>NaN</td>\n",
       "      <td>1/1</td>\n",
       "      <td>515</td>\n",
       "      <td>Organization</td>\n",
       "      <td>Office of the United Nations High Commissioner...</td>\n",
       "      <td>NaN</td>\n",
       "      <td>NaN</td>\n",
       "      <td>...</td>\n",
       "      <td>NaN</td>\n",
       "      <td>NaN</td>\n",
       "      <td>NaN</td>\n",
       "      <td>NaN</td>\n",
       "      <td>NaN</td>\n",
       "      <td>NaN</td>\n",
       "      <td>False</td>\n",
       "      <td>False</td>\n",
       "      <td>1980</td>\n",
       "      <td>False</td>\n",
       "    </tr>\n",
       "  </tbody>\n",
       "</table>\n",
       "<p>13 rows × 22 columns</p>\n",
       "</div>"
      ],
      "text/plain": [
       "     year   category                              prize  \\\n",
       "19   1903    Physics    The Nobel Prize in Physics 1903   \n",
       "62   1911  Chemistry  The Nobel Prize in Chemistry 1911   \n",
       "89   1917      Peace         The Nobel Peace Prize 1917   \n",
       "215  1944      Peace         The Nobel Peace Prize 1944   \n",
       "278  1954  Chemistry  The Nobel Prize in Chemistry 1954   \n",
       "283  1954      Peace         The Nobel Peace Prize 1954   \n",
       "298  1956    Physics    The Nobel Prize in Physics 1956   \n",
       "306  1958  Chemistry  The Nobel Prize in Chemistry 1958   \n",
       "340  1962      Peace         The Nobel Peace Prize 1962   \n",
       "348  1963      Peace         The Nobel Peace Prize 1963   \n",
       "424  1972    Physics    The Nobel Prize in Physics 1972   \n",
       "505  1980  Chemistry  The Nobel Prize in Chemistry 1980   \n",
       "523  1981      Peace         The Nobel Peace Prize 1981   \n",
       "\n",
       "                                            motivation prize_share  \\\n",
       "19   \"in recognition of the extraordinary services ...         1/4   \n",
       "62   \"in recognition of her services to the advance...         1/1   \n",
       "89                                                 NaN         1/1   \n",
       "215                                                NaN         1/1   \n",
       "278  \"for his research into the nature of the chemi...         1/1   \n",
       "283                                                NaN         1/1   \n",
       "298  \"for their researches on semiconductors and th...         1/3   \n",
       "306  \"for his work on the structure of proteins, es...         1/1   \n",
       "340                                                NaN         1/1   \n",
       "348                                                NaN         1/2   \n",
       "424  \"for their jointly developed theory of superco...         1/3   \n",
       "505  \"for their contributions concerning the determ...         1/4   \n",
       "523                                                NaN         1/1   \n",
       "\n",
       "     laureate_id laureate_type  \\\n",
       "19             6    Individual   \n",
       "62             6    Individual   \n",
       "89           482  Organization   \n",
       "215          482  Organization   \n",
       "278          217    Individual   \n",
       "283          515  Organization   \n",
       "298           66    Individual   \n",
       "306          222    Individual   \n",
       "340          217    Individual   \n",
       "348          482  Organization   \n",
       "424           66    Individual   \n",
       "505          222    Individual   \n",
       "523          515  Organization   \n",
       "\n",
       "                                             full_name  birth_date  \\\n",
       "19                         Marie Curie, née Sklodowska  1867-11-07   \n",
       "62                         Marie Curie, née Sklodowska  1867-11-07   \n",
       "89   Comité international de la Croix Rouge (Intern...         NaN   \n",
       "215  Comité international de la Croix Rouge (Intern...         NaN   \n",
       "278                                 Linus Carl Pauling  1901-02-28   \n",
       "283  Office of the United Nations High Commissioner...         NaN   \n",
       "298                                       John Bardeen  1908-05-23   \n",
       "306                                   Frederick Sanger  1918-08-13   \n",
       "340                                 Linus Carl Pauling  1901-02-28   \n",
       "348  Comité international de la Croix Rouge (Intern...         NaN   \n",
       "424                                       John Bardeen  1908-05-23   \n",
       "505                                   Frederick Sanger  1918-08-13   \n",
       "523  Office of the United Nations High Commissioner...         NaN   \n",
       "\n",
       "       birth_city  ...                             organization_name  \\\n",
       "19         Warsaw  ...                                           NaN   \n",
       "62         Warsaw  ...                           Sorbonne University   \n",
       "89            NaN  ...                                           NaN   \n",
       "215           NaN  ...                                           NaN   \n",
       "278  Portland, OR  ...  California Institute of Technology (Caltech)   \n",
       "283           NaN  ...                                           NaN   \n",
       "298   Madison, WI  ...                        University of Illinois   \n",
       "306     Rendcombe  ...                       University of Cambridge   \n",
       "340  Portland, OR  ...  California Institute of Technology (Caltech)   \n",
       "348           NaN  ...                                           NaN   \n",
       "424   Madison, WI  ...                        University of Illinois   \n",
       "505     Rendcombe  ...           MRC Laboratory of Molecular Biology   \n",
       "523           NaN  ...                                           NaN   \n",
       "\n",
       "    organization_city      organization_country  death_date   death_city  \\\n",
       "19                NaN                       NaN  1934-07-04   Sallanches   \n",
       "62              Paris                    France  1934-07-04   Sallanches   \n",
       "89                NaN                       NaN         NaN          NaN   \n",
       "215               NaN                       NaN         NaN          NaN   \n",
       "278      Pasadena, CA  United States of America  1994-08-19  Big Sur, CA   \n",
       "283               NaN                       NaN         NaN          NaN   \n",
       "298        Urbana, IL  United States of America  1991-01-30   Boston, MA   \n",
       "306         Cambridge            United Kingdom  2013-11-19    Cambridge   \n",
       "340      Pasadena, CA  United States of America  1994-08-19  Big Sur, CA   \n",
       "348               NaN                       NaN         NaN          NaN   \n",
       "424        Urbana, IL  United States of America  1991-01-30   Boston, MA   \n",
       "505         Cambridge            United Kingdom  2013-11-19    Cambridge   \n",
       "523               NaN                       NaN         NaN          NaN   \n",
       "\n",
       "                death_country USA_born Germany  decade  female_recipient  \n",
       "19                     France    False   False    1900              True  \n",
       "62                     France    False   False    1910              True  \n",
       "89                        NaN    False   False    1910             False  \n",
       "215                       NaN    False   False    1940             False  \n",
       "278  United States of America     True   False    1950             False  \n",
       "283                       NaN    False   False    1950             False  \n",
       "298  United States of America     True   False    1950             False  \n",
       "306            United Kingdom    False   False    1950             False  \n",
       "340  United States of America     True   False    1960             False  \n",
       "348                       NaN    False   False    1960             False  \n",
       "424  United States of America     True   False    1970             False  \n",
       "505            United Kingdom    False   False    1980             False  \n",
       "523                       NaN    False   False    1980             False  \n",
       "\n",
       "[13 rows x 22 columns]"
      ]
     },
     "execution_count": 97,
     "metadata": {},
     "output_type": "execute_result"
    }
   ],
   "source": [
    "repeats = nobel_df.groupby('full_name', as_index=False).filter(lambda x: len(x)>=2)\n",
    "repeats"
   ]
  },
  {
   "cell_type": "code",
   "execution_count": null,
   "id": "f0e3791c",
   "metadata": {},
   "outputs": [],
   "source": []
  },
  {
   "cell_type": "markdown",
   "id": "f7c33639",
   "metadata": {},
   "source": [
    "### The number of Nobel Laureates who have received the Nobel Prize two or more times"
   ]
  },
  {
   "cell_type": "code",
   "execution_count": 98,
   "id": "7f706127",
   "metadata": {},
   "outputs": [
    {
     "data": {
      "text/plain": [
       "13"
      ]
     },
     "execution_count": 98,
     "metadata": {},
     "output_type": "execute_result"
    }
   ],
   "source": [
    "len(repeats)"
   ]
  },
  {
   "cell_type": "markdown",
   "id": "d73a993e",
   "metadata": {},
   "source": [
    "### The number of repeats female Laureates"
   ]
  },
  {
   "cell_type": "code",
   "execution_count": 102,
   "id": "de1c47a8",
   "metadata": {},
   "outputs": [
    {
     "name": "stdout",
     "output_type": "stream",
     "text": [
      "The number of females who won more than one times is:  2\n"
     ]
    }
   ],
   "source": [
    "female_repeats=repeats[repeats['sex'] == 'Female']\n",
    "print(\"The number of females who won more than one times is: \", + \n",
    "      len(female_repeats))"
   ]
  },
  {
   "cell_type": "code",
   "execution_count": null,
   "id": "d161b468",
   "metadata": {},
   "outputs": [],
   "source": []
  },
  {
   "cell_type": "markdown",
   "id": "19ecaf0d",
   "metadata": {},
   "source": [
    "### What was the age the Receipients when they receive their Prize"
   ]
  },
  {
   "cell_type": "code",
   "execution_count": 105,
   "id": "551183bb",
   "metadata": {},
   "outputs": [
    {
     "data": {
      "text/plain": [
       "<seaborn.axisgrid.FacetGrid at 0x21cb220b8b0>"
      ]
     },
     "execution_count": 105,
     "metadata": {},
     "output_type": "execute_result"
    },
    {
     "data": {
      "image/png": "[encoded data removed]",
      "text/plain": [
       "<Figure size 720x360 with 1 Axes>"
      ]
     },
     "metadata": {},
     "output_type": "display_data"
    }
   ],
   "source": [
    "nobel_df['birth_date']=pd.to_datetime(nobel_df['birth_date'])\n",
    "\n",
    "nobel_df['age'] = nobel_df['year'] - nobel_df['birth_date'].dt.year\n",
    "sns.lmplot(x='year', y='age', data=nobel_df, lowess=True, aspect=2, line_kws={'color':'red'})\n"
   ]
  },
  {
   "cell_type": "code",
   "execution_count": null,
   "id": "b1dab8dc",
   "metadata": {},
   "outputs": [],
   "source": []
  },
  {
   "cell_type": "markdown",
   "id": "3f631daf",
   "metadata": {},
   "source": [
    "### Looking at age trends within different prize categories."
   ]
  },
  {
   "cell_type": "code",
   "execution_count": 108,
   "id": "4d7c47d1",
   "metadata": {},
   "outputs": [
    {
     "data": {
      "text/plain": [
       "<seaborn.axisgrid.FacetGrid at 0x21cb410bbb0>"
      ]
     },
     "execution_count": 108,
     "metadata": {},
     "output_type": "execute_result"
    },
    {
     "data": {
      "image/png": "[encoded data removed]",
      "text/plain": [
       "<Figure size 540x2160 with 6 Axes>"
      ]
     },
     "metadata": {},
     "output_type": "display_data"
    }
   ],
   "source": [
    "sns.lmplot(x='year', y='age', data=nobel_df, row='category', lowess=True, aspect=1.5, line_kws={'color':'red'})"
   ]
  },
  {
   "cell_type": "code",
   "execution_count": null,
   "id": "8d62a13d",
   "metadata": {},
   "outputs": [],
   "source": []
  },
  {
   "cell_type": "markdown",
   "id": "35f9aa8f",
   "metadata": {},
   "source": [
    "### Who was oldest to win"
   ]
  },
  {
   "cell_type": "code",
   "execution_count": 110,
   "id": "05189b79",
   "metadata": {},
   "outputs": [
    {
     "data": {
      "text/html": [
       "<div>\n",
       "<style scoped>\n",
       "    .dataframe tbody tr th:only-of-type {\n",
       "        vertical-align: middle;\n",
       "    }\n",
       "\n",
       "    .dataframe tbody tr th {\n",
       "        vertical-align: top;\n",
       "    }\n",
       "\n",
       "    .dataframe thead th {\n",
       "        text-align: right;\n",
       "    }\n",
       "</style>\n",
       "<table border=\"1\" class=\"dataframe\">\n",
       "  <thead>\n",
       "    <tr style=\"text-align: right;\">\n",
       "      <th></th>\n",
       "      <th>year</th>\n",
       "      <th>category</th>\n",
       "      <th>prize</th>\n",
       "      <th>motivation</th>\n",
       "      <th>prize_share</th>\n",
       "      <th>laureate_id</th>\n",
       "      <th>laureate_type</th>\n",
       "      <th>full_name</th>\n",
       "      <th>birth_date</th>\n",
       "      <th>birth_city</th>\n",
       "      <th>...</th>\n",
       "      <th>organization_city</th>\n",
       "      <th>organization_country</th>\n",
       "      <th>death_date</th>\n",
       "      <th>death_city</th>\n",
       "      <th>death_country</th>\n",
       "      <th>USA_born</th>\n",
       "      <th>Germany</th>\n",
       "      <th>decade</th>\n",
       "      <th>female_recipient</th>\n",
       "      <th>age</th>\n",
       "    </tr>\n",
       "  </thead>\n",
       "  <tbody>\n",
       "    <tr>\n",
       "      <th>793</th>\n",
       "      <td>2007</td>\n",
       "      <td>Economics</td>\n",
       "      <td>The Sveriges Riksbank Prize in Economic Scienc...</td>\n",
       "      <td>\"for having laid the foundations of mechanism ...</td>\n",
       "      <td>1/3</td>\n",
       "      <td>820</td>\n",
       "      <td>Individual</td>\n",
       "      <td>Leonid Hurwicz</td>\n",
       "      <td>1917-08-21</td>\n",
       "      <td>Moscow</td>\n",
       "      <td>...</td>\n",
       "      <td>Minneapolis, MN</td>\n",
       "      <td>United States of America</td>\n",
       "      <td>2008-06-24</td>\n",
       "      <td>Minneapolis, MN</td>\n",
       "      <td>United States of America</td>\n",
       "      <td>False</td>\n",
       "      <td>False</td>\n",
       "      <td>2000</td>\n",
       "      <td>False</td>\n",
       "      <td>90.0</td>\n",
       "    </tr>\n",
       "    <tr>\n",
       "      <th>856</th>\n",
       "      <td>2012</td>\n",
       "      <td>Economics</td>\n",
       "      <td>The Sveriges Riksbank Prize in Economic Scienc...</td>\n",
       "      <td>\"for the theory of stable allocations and the ...</td>\n",
       "      <td>1/2</td>\n",
       "      <td>883</td>\n",
       "      <td>Individual</td>\n",
       "      <td>Lloyd S. Shapley</td>\n",
       "      <td>1923-06-02</td>\n",
       "      <td>Cambridge, MA</td>\n",
       "      <td>...</td>\n",
       "      <td>Los Angeles, CA</td>\n",
       "      <td>United States of America</td>\n",
       "      <td>2016-03-12</td>\n",
       "      <td>Tucson, AZ</td>\n",
       "      <td>United States of America</td>\n",
       "      <td>True</td>\n",
       "      <td>False</td>\n",
       "      <td>2010</td>\n",
       "      <td>False</td>\n",
       "      <td>89.0</td>\n",
       "    </tr>\n",
       "  </tbody>\n",
       "</table>\n",
       "<p>2 rows × 23 columns</p>\n",
       "</div>"
      ],
      "text/plain": [
       "     year   category                                              prize  \\\n",
       "793  2007  Economics  The Sveriges Riksbank Prize in Economic Scienc...   \n",
       "856  2012  Economics  The Sveriges Riksbank Prize in Economic Scienc...   \n",
       "\n",
       "                                            motivation prize_share  \\\n",
       "793  \"for having laid the foundations of mechanism ...         1/3   \n",
       "856  \"for the theory of stable allocations and the ...         1/2   \n",
       "\n",
       "     laureate_id laureate_type         full_name birth_date     birth_city  \\\n",
       "793          820    Individual    Leonid Hurwicz 1917-08-21         Moscow   \n",
       "856          883    Individual  Lloyd S. Shapley 1923-06-02  Cambridge, MA   \n",
       "\n",
       "     ... organization_city      organization_country  death_date  \\\n",
       "793  ...   Minneapolis, MN  United States of America  2008-06-24   \n",
       "856  ...   Los Angeles, CA  United States of America  2016-03-12   \n",
       "\n",
       "          death_city             death_country USA_born Germany decade  \\\n",
       "793  Minneapolis, MN  United States of America    False   False   2000   \n",
       "856       Tucson, AZ  United States of America     True   False   2010   \n",
       "\n",
       "     female_recipient   age  \n",
       "793             False  90.0  \n",
       "856             False  89.0  \n",
       "\n",
       "[2 rows x 23 columns]"
      ]
     },
     "execution_count": 110,
     "metadata": {},
     "output_type": "execute_result"
    }
   ],
   "source": [
    "nobel_df.nlargest(2, 'age')"
   ]
  },
  {
   "cell_type": "markdown",
   "id": "a280d613",
   "metadata": {},
   "source": [
    "### Who was oldest to win"
   ]
  },
  {
   "cell_type": "code",
   "execution_count": 111,
   "id": "b6c09e4d",
   "metadata": {},
   "outputs": [
    {
     "data": {
      "text/html": [
       "<div>\n",
       "<style scoped>\n",
       "    .dataframe tbody tr th:only-of-type {\n",
       "        vertical-align: middle;\n",
       "    }\n",
       "\n",
       "    .dataframe tbody tr th {\n",
       "        vertical-align: top;\n",
       "    }\n",
       "\n",
       "    .dataframe thead th {\n",
       "        text-align: right;\n",
       "    }\n",
       "</style>\n",
       "<table border=\"1\" class=\"dataframe\">\n",
       "  <thead>\n",
       "    <tr style=\"text-align: right;\">\n",
       "      <th></th>\n",
       "      <th>year</th>\n",
       "      <th>category</th>\n",
       "      <th>prize</th>\n",
       "      <th>motivation</th>\n",
       "      <th>prize_share</th>\n",
       "      <th>laureate_id</th>\n",
       "      <th>laureate_type</th>\n",
       "      <th>full_name</th>\n",
       "      <th>birth_date</th>\n",
       "      <th>birth_city</th>\n",
       "      <th>...</th>\n",
       "      <th>organization_city</th>\n",
       "      <th>organization_country</th>\n",
       "      <th>death_date</th>\n",
       "      <th>death_city</th>\n",
       "      <th>death_country</th>\n",
       "      <th>USA_born</th>\n",
       "      <th>Germany</th>\n",
       "      <th>decade</th>\n",
       "      <th>female_recipient</th>\n",
       "      <th>age</th>\n",
       "    </tr>\n",
       "  </thead>\n",
       "  <tbody>\n",
       "    <tr>\n",
       "      <th>885</th>\n",
       "      <td>2014</td>\n",
       "      <td>Peace</td>\n",
       "      <td>The Nobel Peace Prize 2014</td>\n",
       "      <td>\"for their struggle against the suppression of...</td>\n",
       "      <td>1/2</td>\n",
       "      <td>914</td>\n",
       "      <td>Individual</td>\n",
       "      <td>Malala Yousafzai</td>\n",
       "      <td>1997-07-12</td>\n",
       "      <td>Mingora</td>\n",
       "      <td>...</td>\n",
       "      <td>NaN</td>\n",
       "      <td>NaN</td>\n",
       "      <td>NaN</td>\n",
       "      <td>NaN</td>\n",
       "      <td>NaN</td>\n",
       "      <td>False</td>\n",
       "      <td>False</td>\n",
       "      <td>2010</td>\n",
       "      <td>True</td>\n",
       "      <td>17.0</td>\n",
       "    </tr>\n",
       "    <tr>\n",
       "      <th>85</th>\n",
       "      <td>1915</td>\n",
       "      <td>Physics</td>\n",
       "      <td>The Nobel Prize in Physics 1915</td>\n",
       "      <td>\"for their services in the analysis of crystal...</td>\n",
       "      <td>1/2</td>\n",
       "      <td>21</td>\n",
       "      <td>Individual</td>\n",
       "      <td>William Lawrence Bragg</td>\n",
       "      <td>1890-03-31</td>\n",
       "      <td>Adelaide</td>\n",
       "      <td>...</td>\n",
       "      <td>Manchester</td>\n",
       "      <td>United Kingdom</td>\n",
       "      <td>1971-07-01</td>\n",
       "      <td>Ipswich</td>\n",
       "      <td>United Kingdom</td>\n",
       "      <td>False</td>\n",
       "      <td>False</td>\n",
       "      <td>1910</td>\n",
       "      <td>False</td>\n",
       "      <td>25.0</td>\n",
       "    </tr>\n",
       "  </tbody>\n",
       "</table>\n",
       "<p>2 rows × 23 columns</p>\n",
       "</div>"
      ],
      "text/plain": [
       "     year category                            prize  \\\n",
       "885  2014    Peace       The Nobel Peace Prize 2014   \n",
       "85   1915  Physics  The Nobel Prize in Physics 1915   \n",
       "\n",
       "                                            motivation prize_share  \\\n",
       "885  \"for their struggle against the suppression of...         1/2   \n",
       "85   \"for their services in the analysis of crystal...         1/2   \n",
       "\n",
       "     laureate_id laureate_type               full_name birth_date birth_city  \\\n",
       "885          914    Individual        Malala Yousafzai 1997-07-12    Mingora   \n",
       "85            21    Individual  William Lawrence Bragg 1890-03-31   Adelaide   \n",
       "\n",
       "     ... organization_city organization_country  death_date death_city  \\\n",
       "885  ...               NaN                  NaN         NaN        NaN   \n",
       "85   ...        Manchester       United Kingdom  1971-07-01    Ipswich   \n",
       "\n",
       "      death_country USA_born Germany decade  female_recipient   age  \n",
       "885             NaN    False   False   2010              True  17.0  \n",
       "85   United Kingdom    False   False   1910             False  25.0  \n",
       "\n",
       "[2 rows x 23 columns]"
      ]
     },
     "execution_count": 111,
     "metadata": {},
     "output_type": "execute_result"
    }
   ],
   "source": [
    "nobel_df.nsmallest(2, 'age')"
   ]
  },
  {
   "cell_type": "code",
   "execution_count": null,
   "id": "24a49b39",
   "metadata": {},
   "outputs": [],
   "source": []
  },
  {
   "cell_type": "markdown",
   "id": "e3ddb945",
   "metadata": {},
   "source": [
    "# **Conclusion**"
   ]
  },
  {
   "cell_type": "code",
   "execution_count": 117,
   "id": "66dae41e",
   "metadata": {},
   "outputs": [
    {
     "ename": "SyntaxError",
     "evalue": "invalid syntax (<ipython-input-117-a7f741041ca9>, line 1)",
     "output_type": "error",
     "traceback": [
      "\u001b[1;36m  File \u001b[1;32m\"<ipython-input-117-a7f741041ca9>\"\u001b[1;36m, line \u001b[1;32m1\u001b[0m\n\u001b[1;33m    *We found some key insights by analyzing the nobel prize data (1901 - 2016)\u001b[0m\n\u001b[1;37m        ^\u001b[0m\n\u001b[1;31mSyntaxError\u001b[0m\u001b[1;31m:\u001b[0m invalid syntax\n"
     ]
    }
   ],
   "source": [
    "*We found some key insights by analyzing the nobel prize data (1901 - 2016)\n",
    "* United States of America has the most number of recipients of Nobel Prizes (259) between 1901 and 2016\n",
    "* Year 2001 had the highest number of Nobel prize recipients (15)\n",
    "* No Nobel prize were awarded in any category from 1940 to 1942\n",
    "* Marie Curie, née Maria Salomea Skłodowska was the first woman to win a Nobel Prize in Physics in 1903\n",
    "* 13 laureates have received the Nobel Prize two or more times\n",
    "* Leonid Hurwicz was 90 years old when he got his prize\n",
    "* Malala Yousafzai is youngest winner of the Nobel Peace Prize which was awarded to her in 2014"
   ]
  },
  {
   "cell_type": "code",
   "execution_count": null,
   "id": "ec879abc",
   "metadata": {},
   "outputs": [],
   "source": []
  },
  {
   "cell_type": "code",
   "execution_count": null,
   "id": "b48f07db",
   "metadata": {},
   "outputs": [],
   "source": []
  },
  {
   "cell_type": "code",
   "execution_count": null,
   "id": "5d7da17a",
   "metadata": {},
   "outputs": [],
   "source": []
  },
  {
   "cell_type": "code",
   "execution_count": null,
   "id": "a9362eca",
   "metadata": {},
   "outputs": [],
   "source": []
  },
  {
   "cell_type": "code",
   "execution_count": null,
   "id": "605be850",
   "metadata": {},
   "outputs": [],
   "source": []
  },
  {
   "cell_type": "code",
   "execution_count": null,
   "id": "bb67a461",
   "metadata": {},
   "outputs": [],
   "source": []
  },
  {
   "cell_type": "code",
   "execution_count": null,
   "id": "20ae6251",
   "metadata": {},
   "outputs": [],
   "source": []
  },
  {
   "cell_type": "code",
   "execution_count": null,
   "id": "b12ccb21",
   "metadata": {},
   "outputs": [],
   "source": []
  },
  {
   "cell_type": "code",
   "execution_count": null,
   "id": "3eda356b",
   "metadata": {},
   "outputs": [],
   "source": []
  },
  {
   "cell_type": "code",
   "execution_count": null,
   "id": "82019e76",
   "metadata": {},
   "outputs": [],
   "source": []
  },
  {
   "cell_type": "code",
   "execution_count": null,
   "id": "5abafcd1",
   "metadata": {},
   "outputs": [],
   "source": []
  },
  {
   "cell_type": "code",
   "execution_count": null,
   "id": "432e90a4",
   "metadata": {},
   "outputs": [],
   "source": []
  },
  {
   "cell_type": "code",
   "execution_count": null,
   "id": "d6459cab",
   "metadata": {},
   "outputs": [],
   "source": []
  },
  {
   "cell_type": "code",
   "execution_count": null,
   "id": "1be5290e",
   "metadata": {},
   "outputs": [],
   "source": []
  },
  {
   "cell_type": "code",
   "execution_count": null,
   "id": "6128a2b7",
   "metadata": {},
   "outputs": [],
   "source": []
  },
  {
   "cell_type": "code",
   "execution_count": null,
   "id": "e566e070",
   "metadata": {},
   "outputs": [],
   "source": []
  },
  {
   "cell_type": "code",
   "execution_count": null,
   "id": "fa5f23bf",
   "metadata": {},
   "outputs": [],
   "source": []
  },
  {
   "cell_type": "code",
   "execution_count": null,
   "id": "b73f97b5",
   "metadata": {},
   "outputs": [],
   "source": []
  },
  {
   "cell_type": "code",
   "execution_count": null,
   "id": "bc9c685f",
   "metadata": {},
   "outputs": [],
   "source": []
  },
  {
   "cell_type": "code",
   "execution_count": null,
   "id": "3d43f7a9",
   "metadata": {},
   "outputs": [],
   "source": []
  }
 ],
 "metadata": {
  "kernelspec": {
   "display_name": "Python 3",
   "language": "python",
   "name": "python3"
  },
  "language_info": {
   "codemirror_mode": {
    "name": "ipython",
    "version": 3
   },
   "file_extension": ".py",
   "mimetype": "text/x-python",
   "name": "python",
   "nbconvert_exporter": "python",
   "pygments_lexer": "ipython3",
   "version": "3.8.8"
  }
 },
 "nbformat": 4,
 "nbformat_minor": 5
}
